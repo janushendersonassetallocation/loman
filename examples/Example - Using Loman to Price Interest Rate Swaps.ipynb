{
 "cells": [
  {
   "cell_type": "markdown",
   "metadata": {},
   "source": [
    "# Example: Using Loman to price Interest Rate Swaps\n",
    "\n",
    "In this example, we'll look at calibrating interest rate curves to market prices, and then using them to price portfolios of swaps.\n",
    "\n",
    "## Curve Classes\n",
    "\n",
    "Because the focus will be on using Loman, we'll adopt deliberately simplifying assumptions; time is a float, day count and business day conventions are ignored, quarters are exactly 0.25 years long and so on.\n",
    "\n",
    "Our interest rate curves can be used for two things: discounting and projecting rates. To do this, we define a continuously-compounded forward rate $r(t)$, so that the discount rate from a payment at time $t$ to a time $s$ is \n",
    "\\begin{equation} df(s,t) = \\exp\\left[-\\int_s^t r(\\tau) d\\tau\\right] \\end{equation}\n",
    "and zero/FRA rates are defined by\n",
    "\\begin{equation} df(s,t) = \\frac{1}{1+\\text{FRA}(s,t)(t-s)}. \\end{equation}\n",
    "\n",
    "Our BaseIRCurve class leaves the definition of $r$ blank, but otherwise fleshes out the methods we'll need, including methods to PV a set of cashflows, and also to plot the continuously-compounded forward rate, 3M FRA rates, and spot swap rates (once we define swap_rate, further below)."
   ]
  },
  {
   "cell_type": "code",
   "execution_count": 1,
   "metadata": {
    "collapsed": true
   },
   "outputs": [],
   "source": [
    "%matplotlib inline\n",
    "import matplotlib.pyplot as plt\n",
    "import numpy as np\n",
    "from scipy.integrate import quad\n",
    "\n",
    "\n",
    "class BaseIRCurve:\n",
    "    def r_quad(self, s, t):\n",
    "        b = np.broadcast(s, t)\n",
    "        out = np.empty(b.shape)\n",
    "        out.flat = [quad(self.r, s0, t0)[0] for s0, t0 in b]\n",
    "        return out\n",
    "\n",
    "    def r(self, t):\n",
    "        pass\n",
    "\n",
    "    def df(self, s, t):\n",
    "        return np.exp(-self.r_quad(s, t))\n",
    "\n",
    "    def fra(self, s, t):\n",
    "        return (1 / self.df(s, t) - 1.0) / (t - s)\n",
    "\n",
    "    def pv(self, amts, ts, s=0):\n",
    "        dfs = self.df(s, ts)\n",
    "        return np.sum(amts * dfs)\n",
    "\n",
    "    def plot(self):\n",
    "        ts = np.linspace(0.0, 29.75, 360)\n",
    "        plt.plot(ts, self.r(ts), label=\"r\")\n",
    "        ts = np.linspace(0.0, 29.75, 120)\n",
    "        plt.plot(ts, self.fra(ts, ts + 0.25), label=\"3M fwd\")\n",
    "        plt.plot(ts, np.vectorize(swap_rate)(0, ts, 0.25, self, self), label=\"Swap Rate\")\n",
    "        plt.legend()"
   ]
  },
  {
   "cell_type": "markdown",
   "metadata": {},
   "source": [
    "The FlatIRCurve class fills out the definitions of r and r_quad. $r(t)$ is piece-wise flat, and hence its integral is piecewise linear. Together with the methods defined by BaseIRCurve we will now have a basic but functional interest rate curve."
   ]
  },
  {
   "cell_type": "code",
   "execution_count": 2,
   "metadata": {
    "collapsed": true
   },
   "outputs": [],
   "source": [
    "class FlatIRCurve(BaseIRCurve):\n",
    "    def __init__(self, ts, rates):\n",
    "        self.ts = ts\n",
    "        self.rates = rates\n",
    "        self.ts0 = np.zeros(len(self.ts) + 1)\n",
    "        self.ts0[1:] = self.ts\n",
    "        self.rquads = np.zeros_like(self.ts0)\n",
    "        self.rquads[1:] = np.cumsum(np.diff(self.ts0) * self.rates)\n",
    "\n",
    "    def r(self, t):\n",
    "        idx = np.minimum(np.searchsorted(self.ts, t, \"right\"), len(self.ts) - 1)\n",
    "        return self.rates[idx]\n",
    "\n",
    "    def r_quad(self, s, t):\n",
    "        return np.interp(t, self.ts0, self.rquads) - np.interp(s, self.ts0, self.rquads)"
   ]
  },
  {
   "cell_type": "markdown",
   "metadata": {},
   "source": [
    "Finally, we'll need to set up some functions to calculate quarterly FRAs and discount them to calculate PVs of the fixed and floating legs of swaps, as well as the swap rate."
   ]
  },
  {
   "cell_type": "code",
   "execution_count": 3,
   "metadata": {
    "collapsed": false
   },
   "outputs": [],
   "source": [
    "def sched(a, b, p):\n",
    "    n = int((b - a) / p)\n",
    "    if b - n * p > a + p / 2.0:\n",
    "        n = n + 1\n",
    "    ts = np.linspace(b - n * p, b, n + 1)\n",
    "    ts[0] = a\n",
    "    return ts\n",
    "\n",
    "\n",
    "def swap_leg_pvs(a, b, p, projection_curve, discount_curve):\n",
    "    ts = sched(a, b, p)\n",
    "    pers = np.diff(ts)\n",
    "    fixed_pv = discount_curve.pv(pers, ts[1:])\n",
    "    fras = projection_curve.fra(ts[:-1], ts[1:])\n",
    "    float_pv = discount_curve.pv(pers * fras, ts[1:])\n",
    "    return fixed_pv, float_pv\n",
    "\n",
    "\n",
    "def swap_rate(a, b, p, projection_curve, discount_curve):\n",
    "    fixed_pv, float_pv = swap_leg_pvs(a, b, p, projection_curve, discount_curve)\n",
    "    return float_pv / fixed_pv"
   ]
  },
  {
   "cell_type": "markdown",
   "metadata": {},
   "source": [
    "## Calibrating a LIBOR curve\n",
    "\n",
    "Up until 2008, it was standard to use the LIBOR curve for both projection of LIBOR swap cashflows *and* for discounting those cashflows. We set up a Loman computation with inputs **usd_libor_ts**, a set of swap maturities, and **usd_libor_c_rate** a set of continuous compounding rates for each period. From those, we create a curve object **usd_libor_curve**, and then calculate swap rates using that curve for both projection and discounting, in **usd_libor_swap_rates**."
   ]
  },
  {
   "cell_type": "code",
   "execution_count": 4,
   "metadata": {
    "collapsed": false
   },
   "outputs": [
    {
     "data": {
      "image/svg+xml": "<?xml version=\"1.0\" encoding=\"UTF-8\" standalone=\"no\"?>\r\n<!DOCTYPE svg PUBLIC \"-//W3C//DTD SVG 1.1//EN\"\r\n \"http://www.w3.org/Graphics/SVG/1.1/DTD/svg11.dtd\">\r\n<!-- Generated by graphviz version 2.38.0 (20140413.2041)\r\n -->\r\n<!-- Title: %3 Pages: 1 -->\r\n<svg width=\"292pt\" height=\"188pt\"\r\n viewBox=\"0.00 0.00 292.24 188.00\" xmlns=\"http://www.w3.org/2000/svg\" xmlns:xlink=\"http://www.w3.org/1999/xlink\">\r\n<g id=\"graph0\" class=\"graph\" transform=\"scale(1 1) rotate(0) translate(4 184)\">\r\n<title>%3</title>\r\n<polygon fill=\"white\" stroke=\"none\" points=\"-4,4 -4,-184 288.238,-184 288.238,4 -4,4\"/>\r\n<!-- n0 -->\r\n<g id=\"node1\" class=\"node\"><title>n0</title>\r\n<ellipse fill=\"#15b01a\" stroke=\"black\" cx=\"227.693\" cy=\"-162\" rx=\"56.59\" ry=\"18\"/>\r\n<text text-anchor=\"middle\" x=\"227.693\" y=\"-158.3\" font-family=\"Times New Roman,serif\" font-size=\"14.00\">usd_libor_ts</text>\r\n</g>\r\n<!-- n2 -->\r\n<g id=\"node3\" class=\"node\"><title>n2</title>\r\n<ellipse fill=\"#9dff00\" stroke=\"black\" cx=\"129.693\" cy=\"-90\" rx=\"70.3881\" ry=\"18\"/>\r\n<text text-anchor=\"middle\" x=\"129.693\" y=\"-86.3\" font-family=\"Times New Roman,serif\" font-size=\"14.00\">usd_libor_curve</text>\r\n</g>\r\n<!-- n0&#45;&gt;n2 -->\r\n<g id=\"edge1\" class=\"edge\"><title>n0&#45;&gt;n2</title>\r\n<path fill=\"none\" stroke=\"black\" d=\"M205.455,-145.116C192.143,-135.607 175.029,-123.382 160.435,-112.959\"/>\r\n<polygon fill=\"black\" stroke=\"black\" points=\"162.354,-110.028 152.182,-107.064 158.285,-115.724 162.354,-110.028\"/>\r\n</g>\r\n<!-- n3 -->\r\n<g id=\"node4\" class=\"node\"><title>n3</title>\r\n<ellipse fill=\"#0343df\" stroke=\"black\" cx=\"178.693\" cy=\"-18\" rx=\"90.9839\" ry=\"18\"/>\r\n<text text-anchor=\"middle\" x=\"178.693\" y=\"-14.3\" font-family=\"Times New Roman,serif\" font-size=\"14.00\">usd_libor_swap_rates</text>\r\n</g>\r\n<!-- n0&#45;&gt;n3 -->\r\n<g id=\"edge2\" class=\"edge\"><title>n0&#45;&gt;n3</title>\r\n<path fill=\"none\" stroke=\"black\" d=\"M225.61,-143.83C223.035,-125.576 217.83,-96.0778 208.693,-72 205.167,-62.7078 200.185,-53.0937 195.293,-44.647\"/>\r\n<polygon fill=\"black\" stroke=\"black\" points=\"198.249,-42.7712 190.092,-36.0101 192.252,-46.3823 198.249,-42.7712\"/>\r\n</g>\r\n<!-- n1 -->\r\n<g id=\"node2\" class=\"node\"><title>n1</title>\r\n<ellipse fill=\"#15b01a\" stroke=\"black\" cx=\"76.6932\" cy=\"-162\" rx=\"76.8869\" ry=\"18\"/>\r\n<text text-anchor=\"middle\" x=\"76.6932\" y=\"-158.3\" font-family=\"Times New Roman,serif\" font-size=\"14.00\">usd_libor_c_rates</text>\r\n</g>\r\n<!-- n1&#45;&gt;n2 -->\r\n<g id=\"edge3\" class=\"edge\"><title>n1&#45;&gt;n2</title>\r\n<path fill=\"none\" stroke=\"black\" d=\"M89.523,-144.055C95.9029,-135.629 103.739,-125.28 110.79,-115.966\"/>\r\n<polygon fill=\"black\" stroke=\"black\" points=\"113.736,-117.874 116.982,-107.789 108.155,-113.649 113.736,-117.874\"/>\r\n</g>\r\n<!-- n2&#45;&gt;n3 -->\r\n<g id=\"edge4\" class=\"edge\"><title>n2&#45;&gt;n3</title>\r\n<path fill=\"none\" stroke=\"black\" d=\"M141.555,-72.055C147.307,-63.8373 154.339,-53.7911 160.731,-44.6599\"/>\r\n<polygon fill=\"black\" stroke=\"black\" points=\"163.733,-46.4748 166.6,-36.2753 157.999,-42.4605 163.733,-46.4748\"/>\r\n</g>\r\n</g>\r\n</svg>\r\n",
      "text/plain": [
       "<graphviz.dot.Digraph at 0x2538d2f2588>"
      ]
     },
     "execution_count": 4,
     "metadata": {},
     "output_type": "execute_result"
    }
   ],
   "source": [
    "import loman\n",
    "\n",
    "comp = loman.Computation()\n",
    "comp.add_node(\"usd_libor_ts\", value=np.array([1.0, 2.0, 3.0, 5.0, 7.0, 10.0, 15.0, 20.0, 30.0]))\n",
    "comp.add_node(\"usd_libor_c_rates\", value=0.03 * np.ones(9))\n",
    "comp.add_node(\"usd_libor_curve\", lambda usd_libor_ts, usd_libor_c_rates: FlatIRCurve(usd_libor_ts, usd_libor_c_rates))\n",
    "comp.add_node(\n",
    "    \"usd_libor_swap_rates\",\n",
    "    lambda usd_libor_curve, usd_libor_ts: np.vectorize(swap_rate)(\n",
    "        0, usd_libor_ts, 0.25, usd_libor_curve, usd_libor_curve\n",
    "    ),\n",
    ")\n",
    "comp.draw()"
   ]
  },
  {
   "cell_type": "markdown",
   "metadata": {},
   "source": [
    "If we calculate all the nodes in Loman, we can plot the curve. Because we set all the continuously compounding rates to 3%, it's not a very interesting curve yet."
   ]
  },
  {
   "cell_type": "code",
   "execution_count": 5,
   "metadata": {
    "collapsed": false
   },
   "outputs": [
    {
     "name": "stderr",
     "output_type": "stream",
     "text": [
      "C:\\ProgramData\\Anaconda3\\lib\\site-packages\\ipykernel\\__main__.py:19: RuntimeWarning: invalid value encountered in double_scalars\n"
     ]
    },
    {
     "data": {
      "image/png": "[encoded data removed]",
      "text/plain": [
       "<matplotlib.figure.Figure at 0x2538d2ea588>"
      ]
     },
     "metadata": {},
     "output_type": "display_data"
    }
   ],
   "source": [
    "comp.compute_all()\n",
    "comp.value(\"usd_libor_curve\").plot()"
   ]
  },
  {
   "cell_type": "markdown",
   "metadata": {},
   "source": [
    "Now, to help calibrate our curve, we add a node that is market swap rates (**usd_libor_mkt_swap_rates**), and calculate the difference between the rates our curve is producing, and the market rates we are trying to fit to, in **usd_libor_fitting_error**."
   ]
  },
  {
   "cell_type": "code",
   "execution_count": 6,
   "metadata": {
    "collapsed": false
   },
   "outputs": [],
   "source": [
    "comp.add_node(\n",
    "    \"usd_libor_mkt_swap_rates\",\n",
    "    value=np.array([0.01364, 0.01593, 0.01776, 0.02023, 0.02181, 0.02343, 0.02499, 0.02566, 0.02593]),\n",
    ")\n",
    "comp.add_node(\n",
    "    \"usd_libor_fitting_error\",\n",
    "    lambda usd_libor_swap_rates, usd_libor_mkt_swap_rates: usd_libor_swap_rates - usd_libor_mkt_swap_rates,\n",
    ")"
   ]
  },
  {
   "cell_type": "markdown",
   "metadata": {},
   "source": [
    "To calibrate our curve, we use a minimizer from scipy. Our objective function is to insert a trial set of continuously-compounded rates into the input **usd_libor_c_rates**, calculate the error vector **usd_libor_fitting_error** using Loman, and then return the sum of the squares (scaled appropriately for the solver). Our initial guess is taken from the current set of rates in **usd_libor_c_rates**."
   ]
  },
  {
   "cell_type": "code",
   "execution_count": 7,
   "metadata": {
    "collapsed": false
   },
   "outputs": [
    {
     "data": {
      "text/plain": [
       "(True, 275)"
      ]
     },
     "execution_count": 7,
     "metadata": {},
     "output_type": "execute_result"
    }
   ],
   "source": [
    "from scipy.optimize import minimize\n",
    "\n",
    "\n",
    "def error(xs):\n",
    "    comp.insert(\"usd_libor_c_rates\", xs)\n",
    "    comp.compute(\"usd_libor_fitting_error\")\n",
    "    return 10000.0 * np.sum(comp.value(\"usd_libor_fitting_error\") ** 2)\n",
    "\n",
    "\n",
    "res = minimize(error, comp.value(\"usd_libor_c_rates\"))\n",
    "res.success, res.nfev"
   ]
  },
  {
   "cell_type": "markdown",
   "metadata": {},
   "source": [
    "The solver indicates that it rans successfully with 275 evaluations, so we insert its solution set of input rates into the computation (solvers aren't required that their last evaluation be the solution value), re-compute everything, and plot the resulting curve. We also show the market swap rates so we can see our calibration was successful."
   ]
  },
  {
   "cell_type": "code",
   "execution_count": 8,
   "metadata": {
    "collapsed": false
   },
   "outputs": [
    {
     "name": "stderr",
     "output_type": "stream",
     "text": [
      "C:\\ProgramData\\Anaconda3\\lib\\site-packages\\ipykernel\\__main__.py:19: RuntimeWarning: invalid value encountered in double_scalars\n"
     ]
    },
    {
     "data": {
      "text/plain": [
       "<matplotlib.legend.Legend at 0x25390cc2f28>"
      ]
     },
     "execution_count": 8,
     "metadata": {},
     "output_type": "execute_result"
    },
    {
     "data": {
      "image/png": "[encoded data removed]",
      "text/plain": [
       "<matplotlib.figure.Figure at 0x25390ade390>"
      ]
     },
     "metadata": {},
     "output_type": "display_data"
    }
   ],
   "source": [
    "comp.insert(\"usd_libor_c_rates\", res.x)\n",
    "comp.compute_all()\n",
    "comp.value(\"usd_libor_curve\").plot()\n",
    "plt.scatter(comp.value(\"usd_libor_ts\"), comp.value(\"usd_libor_mkt_swap_rates\"), label=\"Mkt Swap Rates\")\n",
    "plt.legend()"
   ]
  },
  {
   "cell_type": "markdown",
   "metadata": {},
   "source": [
    "## Valuing a Portfolio of Interest Rate Swaps\n",
    "\n",
    "Now that we have a valid interest rate curve, we can use it to value interest rate swaps. For now, our swaps will all be valued with using the same USD LIBOR curve.\n",
    "\n",
    "We define a swap as a collection of named parameters, create a function to value them, and add a node **portfolio** to our computation, which is a set of swaps"
   ]
  },
  {
   "cell_type": "code",
   "execution_count": 9,
   "metadata": {
    "collapsed": false
   },
   "outputs": [],
   "source": [
    "from collections import namedtuple\n",
    "\n",
    "Swap = namedtuple(\"Swap\", [\"notional\", \"start\", \"end\", \"rate\", \"freq\"])\n",
    "\n",
    "\n",
    "def swap_pv(swap, projection_curve, discount_curve):\n",
    "    fixed_pv, float_pv = swap_leg_pvs(swap.start, swap.end, swap.freq, projection_curve, discount_curve)\n",
    "    return swap.notional * (float_pv - swap.rate * fixed_pv)\n",
    "\n",
    "\n",
    "comp.add_node(\"portfolio\", value=[Swap(10000000, 5, 10, 0.025, 0.25), Swap(-5000000, 2.5, 12.5, 0.02, 0.25)])"
   ]
  },
  {
   "cell_type": "markdown",
   "metadata": {},
   "source": [
    "To value our portfolio, we simply apply our valuation function to each position in our portfolio, and Loman gives us an array back, with the value of each position"
   ]
  },
  {
   "cell_type": "code",
   "execution_count": 10,
   "metadata": {
    "collapsed": false
   },
   "outputs": [
    {
     "data": {
      "image/svg+xml": "<?xml version=\"1.0\" encoding=\"UTF-8\" standalone=\"no\"?>\r\n<!DOCTYPE svg PUBLIC \"-//W3C//DTD SVG 1.1//EN\"\r\n \"http://www.w3.org/Graphics/SVG/1.1/DTD/svg11.dtd\">\r\n<!-- Generated by graphviz version 2.38.0 (20140413.2041)\r\n -->\r\n<!-- Title: %3 Pages: 1 -->\r\n<svg width=\"562pt\" height=\"260pt\"\r\n viewBox=\"0.00 0.00 561.83 260.00\" xmlns=\"http://www.w3.org/2000/svg\" xmlns:xlink=\"http://www.w3.org/1999/xlink\">\r\n<g id=\"graph0\" class=\"graph\" transform=\"scale(1 1) rotate(0) translate(4 256)\">\r\n<title>%3</title>\r\n<polygon fill=\"white\" stroke=\"none\" points=\"-4,4 -4,-256 557.832,-256 557.832,4 -4,4\"/>\r\n<!-- n0 -->\r\n<g id=\"node1\" class=\"node\"><title>n0</title>\r\n<ellipse fill=\"#15b01a\" stroke=\"black\" cx=\"492.84\" cy=\"-234\" rx=\"56.59\" ry=\"18\"/>\r\n<text text-anchor=\"middle\" x=\"492.84\" y=\"-230.3\" font-family=\"Times New Roman,serif\" font-size=\"14.00\">usd_libor_ts</text>\r\n</g>\r\n<!-- n2 -->\r\n<g id=\"node3\" class=\"node\"><title>n2</title>\r\n<ellipse fill=\"#15b01a\" stroke=\"black\" cx=\"394.84\" cy=\"-162\" rx=\"70.3881\" ry=\"18\"/>\r\n<text text-anchor=\"middle\" x=\"394.84\" y=\"-158.3\" font-family=\"Times New Roman,serif\" font-size=\"14.00\">usd_libor_curve</text>\r\n</g>\r\n<!-- n0&#45;&gt;n2 -->\r\n<g id=\"edge1\" class=\"edge\"><title>n0&#45;&gt;n2</title>\r\n<path fill=\"none\" stroke=\"black\" d=\"M470.603,-217.116C457.29,-207.607 440.176,-195.382 425.582,-184.959\"/>\r\n<polygon fill=\"black\" stroke=\"black\" points=\"427.501,-182.028 417.329,-179.064 423.432,-187.724 427.501,-182.028\"/>\r\n</g>\r\n<!-- n3 -->\r\n<g id=\"node4\" class=\"node\"><title>n3</title>\r\n<ellipse fill=\"#15b01a\" stroke=\"black\" cx=\"462.84\" cy=\"-90\" rx=\"90.9839\" ry=\"18\"/>\r\n<text text-anchor=\"middle\" x=\"462.84\" y=\"-86.3\" font-family=\"Times New Roman,serif\" font-size=\"14.00\">usd_libor_swap_rates</text>\r\n</g>\r\n<!-- n0&#45;&gt;n3 -->\r\n<g id=\"edge2\" class=\"edge\"><title>n0&#45;&gt;n3</title>\r\n<path fill=\"none\" stroke=\"black\" d=\"M489.222,-215.871C484.086,-191.564 474.633,-146.819 468.547,-118.013\"/>\r\n<polygon fill=\"black\" stroke=\"black\" points=\"471.963,-117.25 466.472,-108.189 465.115,-118.697 471.963,-117.25\"/>\r\n</g>\r\n<!-- n1 -->\r\n<g id=\"node2\" class=\"node\"><title>n1</title>\r\n<ellipse fill=\"#15b01a\" stroke=\"black\" cx=\"341.84\" cy=\"-234\" rx=\"76.8869\" ry=\"18\"/>\r\n<text text-anchor=\"middle\" x=\"341.84\" y=\"-230.3\" font-family=\"Times New Roman,serif\" font-size=\"14.00\">usd_libor_c_rates</text>\r\n</g>\r\n<!-- n1&#45;&gt;n2 -->\r\n<g id=\"edge3\" class=\"edge\"><title>n1&#45;&gt;n2</title>\r\n<path fill=\"none\" stroke=\"black\" d=\"M354.67,-216.055C361.05,-207.629 368.886,-197.28 375.937,-187.966\"/>\r\n<polygon fill=\"black\" stroke=\"black\" points=\"378.883,-189.874 382.129,-179.789 373.302,-185.649 378.883,-189.874\"/>\r\n</g>\r\n<!-- n2&#45;&gt;n3 -->\r\n<g id=\"edge4\" class=\"edge\"><title>n2&#45;&gt;n3</title>\r\n<path fill=\"none\" stroke=\"black\" d=\"M410.955,-144.411C419.385,-135.734 429.864,-124.946 439.194,-115.342\"/>\r\n<polygon fill=\"black\" stroke=\"black\" points=\"441.911,-117.568 446.369,-107.956 436.89,-112.69 441.911,-117.568\"/>\r\n</g>\r\n<!-- n7 -->\r\n<g id=\"node8\" class=\"node\"><title>n7</title>\r\n<ellipse fill=\"#9dff00\" stroke=\"black\" cx=\"295.84\" cy=\"-90\" rx=\"57.6901\" ry=\"18\"/>\r\n<text text-anchor=\"middle\" x=\"295.84\" y=\"-86.3\" font-family=\"Times New Roman,serif\" font-size=\"14.00\">portfolio_val</text>\r\n</g>\r\n<!-- n2&#45;&gt;n7 -->\r\n<g id=\"edge5\" class=\"edge\"><title>n2&#45;&gt;n7</title>\r\n<path fill=\"none\" stroke=\"black\" d=\"M371.879,-144.765C358.318,-135.176 340.985,-122.92 326.293,-112.532\"/>\r\n<polygon fill=\"black\" stroke=\"black\" points=\"328.182,-109.581 317.996,-106.666 324.141,-115.297 328.182,-109.581\"/>\r\n</g>\r\n<!-- n5 -->\r\n<g id=\"node6\" class=\"node\"><title>n5</title>\r\n<ellipse fill=\"#15b01a\" stroke=\"black\" cx=\"285.84\" cy=\"-18\" rx=\"92.8835\" ry=\"18\"/>\r\n<text text-anchor=\"middle\" x=\"285.84\" y=\"-14.3\" font-family=\"Times New Roman,serif\" font-size=\"14.00\">usd_libor_fitting_error</text>\r\n</g>\r\n<!-- n3&#45;&gt;n5 -->\r\n<g id=\"edge6\" class=\"edge\"><title>n3&#45;&gt;n5</title>\r\n<path fill=\"none\" stroke=\"black\" d=\"M423.997,-73.6382C397.689,-63.234 362.726,-49.4066 334.554,-38.2655\"/>\r\n<polygon fill=\"black\" stroke=\"black\" points=\"335.485,-34.8697 324.898,-34.4468 332.91,-41.3792 335.485,-34.8697\"/>\r\n</g>\r\n<!-- n4 -->\r\n<g id=\"node5\" class=\"node\"><title>n4</title>\r\n<ellipse fill=\"#15b01a\" stroke=\"black\" cx=\"109.84\" cy=\"-90\" rx=\"109.681\" ry=\"18\"/>\r\n<text text-anchor=\"middle\" x=\"109.84\" y=\"-86.3\" font-family=\"Times New Roman,serif\" font-size=\"14.00\">usd_libor_mkt_swap_rates</text>\r\n</g>\r\n<!-- n4&#45;&gt;n5 -->\r\n<g id=\"edge7\" class=\"edge\"><title>n4&#45;&gt;n5</title>\r\n<path fill=\"none\" stroke=\"black\" d=\"M149.777,-73.1159C175.815,-62.76 209.951,-49.1832 237.517,-38.2195\"/>\r\n<polygon fill=\"black\" stroke=\"black\" points=\"238.971,-41.4079 246.969,-34.46 236.384,-34.9035 238.971,-41.4079\"/>\r\n</g>\r\n<!-- n6 -->\r\n<g id=\"node7\" class=\"node\"><title>n6</title>\r\n<ellipse fill=\"#15b01a\" stroke=\"black\" cx=\"264.84\" cy=\"-162\" rx=\"42.4939\" ry=\"18\"/>\r\n<text text-anchor=\"middle\" x=\"264.84\" y=\"-158.3\" font-family=\"Times New Roman,serif\" font-size=\"14.00\">portfolio</text>\r\n</g>\r\n<!-- n6&#45;&gt;n7 -->\r\n<g id=\"edge8\" class=\"edge\"><title>n6&#45;&gt;n7</title>\r\n<path fill=\"none\" stroke=\"black\" d=\"M272.344,-144.055C275.871,-136.091 280.158,-126.411 284.1,-117.51\"/>\r\n<polygon fill=\"black\" stroke=\"black\" points=\"287.341,-118.836 288.19,-108.275 280.94,-116.002 287.341,-118.836\"/>\r\n</g>\r\n</g>\r\n</svg>\r\n",
      "text/plain": [
       "<graphviz.dot.Digraph at 0x25390cbb198>"
      ]
     },
     "execution_count": 10,
     "metadata": {},
     "output_type": "execute_result"
    }
   ],
   "source": [
    "comp.add_node(\n",
    "    \"portfolio_val\",\n",
    "    lambda portfolio, usd_libor_curve: [swap_pv(swap, usd_libor_curve, usd_libor_curve) for swap in portfolio],\n",
    ")\n",
    "comp.draw()"
   ]
  },
  {
   "cell_type": "code",
   "execution_count": 11,
   "metadata": {
    "collapsed": false
   },
   "outputs": [
    {
     "data": {
      "text/plain": [
       "[86395.045323357786, -274086.54029392399]"
      ]
     },
     "execution_count": 11,
     "metadata": {},
     "output_type": "execute_result"
    }
   ],
   "source": [
    "comp.compute_all()\n",
    "comp.value(\"portfolio_val\")"
   ]
  },
  {
   "cell_type": "markdown",
   "metadata": {},
   "source": [
    "## Dual Bootstrap Curves\n",
    "\n",
    "Since 2008, the spread between LIBOR and OIS has been material, and it is standard practice to calibrate curves to LIBOR swaps and LIBOR-OIS basis swaps, say. To start, we'll need some inputs, a curve, and the market rates."
   ]
  },
  {
   "cell_type": "code",
   "execution_count": 12,
   "metadata": {
    "collapsed": true
   },
   "outputs": [],
   "source": [
    "comp.add_node(\"usd_ois_ts\", value=np.array([1.0, 2.0, 3.0, 5.0, 7.0, 10.0, 15.0, 20.0, 30.0]))\n",
    "comp.add_node(\"usd_ois_c_rates\", value=0.03 * np.ones(9))\n",
    "comp.add_node(\"usd_ois_curve\", lambda usd_ois_ts, usd_ois_c_rates: FlatIRCurve(usd_ois_ts, usd_ois_c_rates))\n",
    "comp.add_node(\"usd_libor_ois_mkt_spreads\", value=np.array([24.2, 26, 27.2, 29, 30.9, 33.4, 36.4, 38, 39.8]) / 10000.0)"
   ]
  },
  {
   "cell_type": "markdown",
   "metadata": {},
   "source": [
    "Now we need a function to calculate LIBOR-OIS spreads from our two curves using\n",
    "\\begin{equation} PV_\\text{LIBOR float leg} = PV_\\text{OIS float leg} + s \\times PV_\\text{OIS 1bp fixed leg} \\end{equation}"
   ]
  },
  {
   "cell_type": "code",
   "execution_count": 13,
   "metadata": {
    "collapsed": true
   },
   "outputs": [],
   "source": [
    "def swap_spread(a, b, p, projection_curve1, projection_curve2, discount_curve):\n",
    "    fixed_pv1, float_pv1 = swap_leg_pvs(a, b, p, projection_curve1, discount_curve)\n",
    "    fixed_pv2, float_pv2 = swap_leg_pvs(a, b, p, projection_curve2, discount_curve)\n",
    "    return (float_pv1 - float_pv2) / fixed_pv2"
   ]
  },
  {
   "cell_type": "markdown",
   "metadata": {},
   "source": [
    "We use that function to calculate LIBOR-OIS spreads using our two curves, as well as another fitting error vector that we will use in calibration."
   ]
  },
  {
   "cell_type": "code",
   "execution_count": 14,
   "metadata": {
    "collapsed": true
   },
   "outputs": [],
   "source": [
    "comp.add_node(\n",
    "    \"usd_libor_ois_spreads\",\n",
    "    lambda usd_libor_curve, usd_ois_curve, usd_ois_ts: np.vectorize(swap_spread)(\n",
    "        0, usd_ois_ts, 0.25, usd_libor_curve, usd_ois_curve, usd_ois_curve\n",
    "    ),\n",
    ")\n",
    "\n",
    "comp.add_node(\n",
    "    \"usd_libor_ois_fitting_error\",\n",
    "    lambda usd_libor_ois_spreads, usd_libor_ois_mkt_spreads: usd_libor_ois_spreads - usd_libor_ois_mkt_spreads,\n",
    ")"
   ]
  },
  {
   "cell_type": "markdown",
   "metadata": {},
   "source": [
    "We should also update our LIBOR swap rate calculation to use our OIS curve for discounting:"
   ]
  },
  {
   "cell_type": "code",
   "execution_count": 15,
   "metadata": {
    "collapsed": true
   },
   "outputs": [],
   "source": [
    "comp.add_node(\n",
    "    \"usd_libor_swap_rates\",\n",
    "    lambda usd_libor_curve, usd_ois_curve, usd_libor_ts: np.vectorize(swap_rate)(\n",
    "        0, usd_libor_ts, 0.25, usd_libor_curve, usd_ois_curve\n",
    "    ),\n",
    ")"
   ]
  },
  {
   "cell_type": "markdown",
   "metadata": {},
   "source": [
    "Finally, for our calibration, it would be more convenient if we could just insert one vector, containing both LIBOR and OIS inputs, and have those feed through into **usd_libor_c_rates** and **usd_ois_c_rates**. Thanks to Loman, we can do this by giving them a common parent node. If we later want to insert values directly into **usd_libor_c_rates** and **usd_ois_c_rates**, then we can do that too, even though they are calculation nodes. We also define a node  **usd_fitting_error** to collect the fitting error vectors."
   ]
  },
  {
   "cell_type": "code",
   "execution_count": 16,
   "metadata": {
    "collapsed": false
   },
   "outputs": [
    {
     "data": {
      "image/svg+xml": "<?xml version=\"1.0\" encoding=\"UTF-8\" standalone=\"no\"?>\r\n<!DOCTYPE svg PUBLIC \"-//W3C//DTD SVG 1.1//EN\"\r\n \"http://www.w3.org/Graphics/SVG/1.1/DTD/svg11.dtd\">\r\n<!-- Generated by graphviz version 2.38.0 (20140413.2041)\r\n -->\r\n<!-- Title: %3 Pages: 1 -->\r\n<svg width=\"720pt\" height=\"288pt\"\r\n viewBox=\"0.00 0.00 720.00 288.09\" xmlns=\"http://www.w3.org/2000/svg\" xmlns:xlink=\"http://www.w3.org/1999/xlink\">\r\n<g id=\"graph0\" class=\"graph\" transform=\"scale(0.713094 0.713094) rotate(0) translate(4 400)\">\r\n<title>%3</title>\r\n<polygon fill=\"white\" stroke=\"none\" points=\"-4,4 -4,-400 1005.69,-400 1005.69,4 -4,4\"/>\r\n<!-- n0 -->\r\n<g id=\"node1\" class=\"node\"><title>n0</title>\r\n<ellipse fill=\"#15b01a\" stroke=\"black\" cx=\"538.84\" cy=\"-306\" rx=\"56.59\" ry=\"18\"/>\r\n<text text-anchor=\"middle\" x=\"538.84\" y=\"-302.3\" font-family=\"Times New Roman,serif\" font-size=\"14.00\">usd_libor_ts</text>\r\n</g>\r\n<!-- n2 -->\r\n<g id=\"node3\" class=\"node\"><title>n2</title>\r\n<ellipse fill=\"#ffff14\" stroke=\"black\" cx=\"632.84\" cy=\"-234\" rx=\"70.3881\" ry=\"18\"/>\r\n<text text-anchor=\"middle\" x=\"632.84\" y=\"-230.3\" font-family=\"Times New Roman,serif\" font-size=\"14.00\">usd_libor_curve</text>\r\n</g>\r\n<!-- n0&#45;&gt;n2 -->\r\n<g id=\"edge1\" class=\"edge\"><title>n0&#45;&gt;n2</title>\r\n<path fill=\"none\" stroke=\"black\" d=\"M560.17,-289.116C572.73,-279.763 588.819,-267.782 602.664,-257.472\"/>\r\n<polygon fill=\"black\" stroke=\"black\" points=\"605.012,-260.087 610.942,-251.307 600.831,-254.473 605.012,-260.087\"/>\r\n</g>\r\n<!-- n3 -->\r\n<g id=\"node4\" class=\"node\"><title>n3</title>\r\n<ellipse fill=\"#ffff14\" stroke=\"black\" cx=\"534.84\" cy=\"-162\" rx=\"90.9839\" ry=\"18\"/>\r\n<text text-anchor=\"middle\" x=\"534.84\" y=\"-158.3\" font-family=\"Times New Roman,serif\" font-size=\"14.00\">usd_libor_swap_rates</text>\r\n</g>\r\n<!-- n0&#45;&gt;n3 -->\r\n<g id=\"edge2\" class=\"edge\"><title>n0&#45;&gt;n3</title>\r\n<path fill=\"none\" stroke=\"black\" d=\"M538.358,-287.871C537.676,-263.67 536.424,-219.211 535.612,-190.393\"/>\r\n<polygon fill=\"black\" stroke=\"black\" points=\"539.105,-190.087 535.324,-180.189 532.108,-190.284 539.105,-190.087\"/>\r\n</g>\r\n<!-- n1 -->\r\n<g id=\"node2\" class=\"node\"><title>n1</title>\r\n<ellipse fill=\"#9dff00\" stroke=\"black\" cx=\"689.84\" cy=\"-306\" rx=\"76.8869\" ry=\"18\"/>\r\n<text text-anchor=\"middle\" x=\"689.84\" y=\"-302.3\" font-family=\"Times New Roman,serif\" font-size=\"14.00\">usd_libor_c_rates</text>\r\n</g>\r\n<!-- n1&#45;&gt;n2 -->\r\n<g id=\"edge3\" class=\"edge\"><title>n1&#45;&gt;n2</title>\r\n<path fill=\"none\" stroke=\"black\" d=\"M676.042,-288.055C669.111,-279.543 660.582,-269.068 652.938,-259.681\"/>\r\n<polygon fill=\"black\" stroke=\"black\" points=\"655.54,-257.333 646.511,-251.789 650.112,-261.753 655.54,-257.333\"/>\r\n</g>\r\n<!-- n2&#45;&gt;n3 -->\r\n<g id=\"edge6\" class=\"edge\"><title>n2&#45;&gt;n3</title>\r\n<path fill=\"none\" stroke=\"black\" d=\"M610.111,-216.765C597.187,-207.533 580.802,-195.83 566.621,-185.701\"/>\r\n<polygon fill=\"black\" stroke=\"black\" points=\"568.299,-182.598 558.127,-179.633 564.23,-188.294 568.299,-182.598\"/>\r\n</g>\r\n<!-- n7 -->\r\n<g id=\"node8\" class=\"node\"><title>n7</title>\r\n<ellipse fill=\"#ffff14\" stroke=\"black\" cx=\"943.84\" cy=\"-162\" rx=\"57.6901\" ry=\"18\"/>\r\n<text text-anchor=\"middle\" x=\"943.84\" y=\"-158.3\" font-family=\"Times New Roman,serif\" font-size=\"14.00\">portfolio_val</text>\r\n</g>\r\n<!-- n2&#45;&gt;n7 -->\r\n<g id=\"edge4\" class=\"edge\"><title>n2&#45;&gt;n7</title>\r\n<path fill=\"none\" stroke=\"black\" d=\"M685.792,-222.05C735.296,-211.682 811.226,-195.445 876.84,-180 881.487,-178.906 886.308,-177.742 891.136,-176.555\"/>\r\n<polygon fill=\"black\" stroke=\"black\" points=\"892.142,-179.911 901.004,-174.104 890.455,-173.118 892.142,-179.911\"/>\r\n</g>\r\n<!-- n12 -->\r\n<g id=\"node13\" class=\"node\"><title>n12</title>\r\n<ellipse fill=\"#ffff14\" stroke=\"black\" cx=\"331.84\" cy=\"-162\" rx=\"94.4839\" ry=\"18\"/>\r\n<text text-anchor=\"middle\" x=\"331.84\" y=\"-158.3\" font-family=\"Times New Roman,serif\" font-size=\"14.00\">usd_libor_ois_spreads</text>\r\n</g>\r\n<!-- n2&#45;&gt;n12 -->\r\n<g id=\"edge5\" class=\"edge\"><title>n2&#45;&gt;n12</title>\r\n<path fill=\"none\" stroke=\"black\" d=\"M582.798,-221.362C532.492,-209.663 454.626,-191.555 398.976,-178.613\"/>\r\n<polygon fill=\"black\" stroke=\"black\" points=\"399.736,-175.196 389.203,-176.34 398.15,-182.014 399.736,-175.196\"/>\r\n</g>\r\n<!-- n5 -->\r\n<g id=\"node6\" class=\"node\"><title>n5</title>\r\n<ellipse fill=\"#ffff14\" stroke=\"black\" cx=\"323.84\" cy=\"-90\" rx=\"92.8835\" ry=\"18\"/>\r\n<text text-anchor=\"middle\" x=\"323.84\" y=\"-86.3\" font-family=\"Times New Roman,serif\" font-size=\"14.00\">usd_libor_fitting_error</text>\r\n</g>\r\n<!-- n3&#45;&gt;n5 -->\r\n<g id=\"edge7\" class=\"edge\"><title>n3&#45;&gt;n5</title>\r\n<path fill=\"none\" stroke=\"black\" d=\"M490.35,-146.24C457.637,-135.388 413,-120.579 378.176,-109.026\"/>\r\n<polygon fill=\"black\" stroke=\"black\" points=\"379.226,-105.687 368.632,-105.86 377.022,-112.331 379.226,-105.687\"/>\r\n</g>\r\n<!-- n4 -->\r\n<g id=\"node5\" class=\"node\"><title>n4</title>\r\n<ellipse fill=\"#15b01a\" stroke=\"black\" cx=\"109.84\" cy=\"-162\" rx=\"109.681\" ry=\"18\"/>\r\n<text text-anchor=\"middle\" x=\"109.84\" y=\"-158.3\" font-family=\"Times New Roman,serif\" font-size=\"14.00\">usd_libor_mkt_swap_rates</text>\r\n</g>\r\n<!-- n4&#45;&gt;n5 -->\r\n<g id=\"edge8\" class=\"edge\"><title>n4&#45;&gt;n5</title>\r\n<path fill=\"none\" stroke=\"black\" d=\"M156.803,-145.638C189.867,-134.823 234.24,-120.309 268.941,-108.958\"/>\r\n<polygon fill=\"black\" stroke=\"black\" points=\"270.038,-112.281 278.454,-105.846 267.862,-105.628 270.038,-112.281\"/>\r\n</g>\r\n<!-- n15 -->\r\n<g id=\"node16\" class=\"node\"><title>n15</title>\r\n<ellipse fill=\"#0343df\" stroke=\"black\" cx=\"432.84\" cy=\"-18\" rx=\"71.4873\" ry=\"18\"/>\r\n<text text-anchor=\"middle\" x=\"432.84\" y=\"-14.3\" font-family=\"Times New Roman,serif\" font-size=\"14.00\">usd_fitting_error</text>\r\n</g>\r\n<!-- n5&#45;&gt;n15 -->\r\n<g id=\"edge9\" class=\"edge\"><title>n5&#45;&gt;n15</title>\r\n<path fill=\"none\" stroke=\"black\" d=\"M349.396,-72.5881C364.262,-63.0413 383.175,-50.8951 399.235,-40.581\"/>\r\n<polygon fill=\"black\" stroke=\"black\" points=\"401.298,-43.4164 407.821,-35.0676 397.515,-37.5264 401.298,-43.4164\"/>\r\n</g>\r\n<!-- n6 -->\r\n<g id=\"node7\" class=\"node\"><title>n6</title>\r\n<ellipse fill=\"#15b01a\" stroke=\"black\" cx=\"943.84\" cy=\"-234\" rx=\"42.4939\" ry=\"18\"/>\r\n<text text-anchor=\"middle\" x=\"943.84\" y=\"-230.3\" font-family=\"Times New Roman,serif\" font-size=\"14.00\">portfolio</text>\r\n</g>\r\n<!-- n6&#45;&gt;n7 -->\r\n<g id=\"edge10\" class=\"edge\"><title>n6&#45;&gt;n7</title>\r\n<path fill=\"none\" stroke=\"black\" d=\"M943.84,-215.697C943.84,-207.983 943.84,-198.712 943.84,-190.112\"/>\r\n<polygon fill=\"black\" stroke=\"black\" points=\"947.34,-190.104 943.84,-180.104 940.34,-190.104 947.34,-190.104\"/>\r\n</g>\r\n<!-- n8 -->\r\n<g id=\"node9\" class=\"node\"><title>n8</title>\r\n<ellipse fill=\"#15b01a\" stroke=\"black\" cx=\"413.84\" cy=\"-306\" rx=\"50.8918\" ry=\"18\"/>\r\n<text text-anchor=\"middle\" x=\"413.84\" y=\"-302.3\" font-family=\"Times New Roman,serif\" font-size=\"14.00\">usd_ois_ts</text>\r\n</g>\r\n<!-- n10 -->\r\n<g id=\"node11\" class=\"node\"><title>n10</title>\r\n<ellipse fill=\"#ffff14\" stroke=\"black\" cx=\"324.84\" cy=\"-234\" rx=\"64.189\" ry=\"18\"/>\r\n<text text-anchor=\"middle\" x=\"324.84\" y=\"-230.3\" font-family=\"Times New Roman,serif\" font-size=\"14.00\">usd_ois_curve</text>\r\n</g>\r\n<!-- n8&#45;&gt;n10 -->\r\n<g id=\"edge11\" class=\"edge\"><title>n8&#45;&gt;n10</title>\r\n<path fill=\"none\" stroke=\"black\" d=\"M393.645,-289.116C381.865,-279.851 366.807,-268.008 353.783,-257.764\"/>\r\n<polygon fill=\"black\" stroke=\"black\" points=\"355.597,-254.738 345.573,-251.307 351.27,-260.24 355.597,-254.738\"/>\r\n</g>\r\n<!-- n8&#45;&gt;n12 -->\r\n<g id=\"edge12\" class=\"edge\"><title>n8&#45;&gt;n12</title>\r\n<path fill=\"none\" stroke=\"black\" d=\"M414.228,-287.7C413.893,-268.805 411.07,-238.27 397.84,-216 390.723,-204.019 379.822,-193.642 368.918,-185.324\"/>\r\n<polygon fill=\"black\" stroke=\"black\" points=\"370.803,-182.369 360.641,-179.373 366.717,-188.052 370.803,-182.369\"/>\r\n</g>\r\n<!-- n9 -->\r\n<g id=\"node10\" class=\"node\"><title>n9</title>\r\n<ellipse fill=\"#9dff00\" stroke=\"black\" cx=\"273.84\" cy=\"-306\" rx=\"70.6878\" ry=\"18\"/>\r\n<text text-anchor=\"middle\" x=\"273.84\" y=\"-302.3\" font-family=\"Times New Roman,serif\" font-size=\"14.00\">usd_ois_c_rates</text>\r\n</g>\r\n<!-- n9&#45;&gt;n10 -->\r\n<g id=\"edge13\" class=\"edge\"><title>n9&#45;&gt;n10</title>\r\n<path fill=\"none\" stroke=\"black\" d=\"M286.186,-288.055C292.325,-279.629 299.865,-269.28 306.651,-259.966\"/>\r\n<polygon fill=\"black\" stroke=\"black\" points=\"309.548,-261.932 312.608,-251.789 303.891,-257.81 309.548,-261.932\"/>\r\n</g>\r\n<!-- n10&#45;&gt;n3 -->\r\n<g id=\"edge15\" class=\"edge\"><title>n10&#45;&gt;n3</title>\r\n<path fill=\"none\" stroke=\"black\" d=\"M364.834,-219.669C397.684,-208.719 444.531,-193.103 480.732,-181.036\"/>\r\n<polygon fill=\"black\" stroke=\"black\" points=\"482.259,-184.216 490.639,-177.734 480.046,-177.576 482.259,-184.216\"/>\r\n</g>\r\n<!-- n10&#45;&gt;n12 -->\r\n<g id=\"edge14\" class=\"edge\"><title>n10&#45;&gt;n12</title>\r\n<path fill=\"none\" stroke=\"black\" d=\"M326.571,-215.697C327.342,-207.983 328.269,-198.712 329.129,-190.112\"/>\r\n<polygon fill=\"black\" stroke=\"black\" points=\"332.617,-190.403 330.13,-180.104 325.652,-189.706 332.617,-190.403\"/>\r\n</g>\r\n<!-- n11 -->\r\n<g id=\"node12\" class=\"node\"><title>n11</title>\r\n<ellipse fill=\"#15b01a\" stroke=\"black\" cx=\"755.84\" cy=\"-162\" rx=\"112.38\" ry=\"18\"/>\r\n<text text-anchor=\"middle\" x=\"755.84\" y=\"-158.3\" font-family=\"Times New Roman,serif\" font-size=\"14.00\">usd_libor_ois_mkt_spreads</text>\r\n</g>\r\n<!-- n13 -->\r\n<g id=\"node14\" class=\"node\"><title>n13</title>\r\n<ellipse fill=\"#ffff14\" stroke=\"black\" cx=\"542.84\" cy=\"-90\" rx=\"108.581\" ry=\"18\"/>\r\n<text text-anchor=\"middle\" x=\"542.84\" y=\"-86.3\" font-family=\"Times New Roman,serif\" font-size=\"14.00\">usd_libor_ois_fitting_error</text>\r\n</g>\r\n<!-- n11&#45;&gt;n13 -->\r\n<g id=\"edge16\" class=\"edge\"><title>n11&#45;&gt;n13</title>\r\n<path fill=\"none\" stroke=\"black\" d=\"M708.833,-145.552C676.496,-134.925 633.386,-120.757 599.204,-109.523\"/>\r\n<polygon fill=\"black\" stroke=\"black\" points=\"599.954,-106.086 589.361,-106.288 597.768,-112.736 599.954,-106.086\"/>\r\n</g>\r\n<!-- n12&#45;&gt;n13 -->\r\n<g id=\"edge17\" class=\"edge\"><title>n12&#45;&gt;n13</title>\r\n<path fill=\"none\" stroke=\"black\" d=\"M376.588,-146.155C408.738,-135.489 452.306,-121.035 486.776,-109.599\"/>\r\n<polygon fill=\"black\" stroke=\"black\" points=\"488.309,-112.779 496.698,-106.308 486.105,-106.135 488.309,-112.779\"/>\r\n</g>\r\n<!-- n13&#45;&gt;n15 -->\r\n<g id=\"edge18\" class=\"edge\"><title>n13&#45;&gt;n15</title>\r\n<path fill=\"none\" stroke=\"black\" d=\"M516.772,-72.411C501.762,-62.8595 482.734,-50.7507 466.592,-40.4782\"/>\r\n<polygon fill=\"black\" stroke=\"black\" points=\"468.28,-37.4041 457.964,-34.9881 464.522,-43.3097 468.28,-37.4041\"/>\r\n</g>\r\n<!-- n14 -->\r\n<g id=\"node15\" class=\"node\"><title>n14</title>\r\n<ellipse fill=\"#15b01a\" stroke=\"black\" cx=\"481.84\" cy=\"-378\" rx=\"55.4913\" ry=\"18\"/>\r\n<text text-anchor=\"middle\" x=\"481.84\" y=\"-374.3\" font-family=\"Times New Roman,serif\" font-size=\"14.00\">usd_c_rates</text>\r\n</g>\r\n<!-- n14&#45;&gt;n1 -->\r\n<g id=\"edge19\" class=\"edge\"><title>n14&#45;&gt;n1</title>\r\n<path fill=\"none\" stroke=\"black\" d=\"M519.026,-364.485C552.279,-353.295 601.335,-336.785 638.355,-324.327\"/>\r\n<polygon fill=\"black\" stroke=\"black\" points=\"639.61,-327.597 647.971,-321.091 637.377,-320.963 639.61,-327.597\"/>\r\n</g>\r\n<!-- n14&#45;&gt;n9 -->\r\n<g id=\"edge20\" class=\"edge\"><title>n14&#45;&gt;n9</title>\r\n<path fill=\"none\" stroke=\"black\" d=\"M444.654,-364.485C411.08,-353.186 361.395,-336.465 324.254,-323.966\"/>\r\n<polygon fill=\"black\" stroke=\"black\" points=\"325.212,-320.596 314.618,-320.723 322.98,-327.23 325.212,-320.596\"/>\r\n</g>\r\n</g>\r\n</svg>\r\n",
      "text/plain": [
       "<graphviz.dot.Digraph at 0x25390d1bba8>"
      ]
     },
     "execution_count": 16,
     "metadata": {},
     "output_type": "execute_result"
    }
   ],
   "source": [
    "comp.add_node(\"usd_c_rates\", value=0.03 * np.ones(18))\n",
    "comp.add_node(\"usd_libor_c_rates\", lambda usd_c_rates: usd_c_rates[0:9])\n",
    "comp.add_node(\"usd_ois_c_rates\", lambda usd_c_rates: usd_c_rates[9:18])\n",
    "comp.add_node(\n",
    "    \"usd_fitting_error\",\n",
    "    lambda usd_libor_fitting_error, usd_libor_ois_fitting_error: np.concatenate(\n",
    "        [usd_libor_fitting_error, usd_libor_ois_fitting_error]\n",
    "    ),\n",
    ")\n",
    "comp.draw(graph_attr={\"size\": \"10,8\"})"
   ]
  },
  {
   "cell_type": "markdown",
   "metadata": {},
   "source": [
    "Complicated.\n",
    "\n",
    "But it's ok. Loman can take care of this.\n",
    "\n",
    "We can just apply the same method as before. Having the solver insert sets of inputs, and iterate until it has minimized the error. This time, the set of inputs that it is adjusting flow into the construction of two separate curves, **usd_ois_curve**, and **usd_libor_curve**."
   ]
  },
  {
   "cell_type": "code",
   "execution_count": 17,
   "metadata": {
    "collapsed": false
   },
   "outputs": [
    {
     "data": {
      "text/plain": [
       "(True, 780)"
      ]
     },
     "execution_count": 17,
     "metadata": {},
     "output_type": "execute_result"
    }
   ],
   "source": [
    "def error(xs):\n",
    "    comp.insert(\"usd_c_rates\", xs)\n",
    "    comp.compute(\"usd_fitting_error\")\n",
    "    return 10000.0 * np.sum(comp.value(\"usd_fitting_error\") ** 2)\n",
    "\n",
    "\n",
    "res = minimize(error, comp.value(\"usd_c_rates\"))\n",
    "res.success, res.nfev"
   ]
  },
  {
   "cell_type": "code",
   "execution_count": 18,
   "metadata": {
    "collapsed": false
   },
   "outputs": [],
   "source": [
    "comp.insert(\"usd_c_rates\", res.x)\n",
    "comp.compute_all()"
   ]
  },
  {
   "cell_type": "markdown",
   "metadata": {},
   "source": [
    "Finally, we can plot LIBOR-OIS spreads from our dual boot-strapped curve, as well as LIBOR and OIS swap rates, to check the calibration."
   ]
  },
  {
   "cell_type": "code",
   "execution_count": 19,
   "metadata": {
    "collapsed": false
   },
   "outputs": [
    {
     "name": "stderr",
     "output_type": "stream",
     "text": [
      "C:\\ProgramData\\Anaconda3\\lib\\site-packages\\ipykernel\\__main__.py:4: RuntimeWarning: invalid value encountered in double_scalars\n"
     ]
    },
    {
     "data": {
      "text/plain": [
       "<matplotlib.legend.Legend at 0x25390fba0b8>"
      ]
     },
     "execution_count": 19,
     "metadata": {},
     "output_type": "execute_result"
    },
    {
     "data": {
      "image/png": "[encoded data removed]",
      "text/plain": [
       "<matplotlib.figure.Figure at 0x25390b0dd68>"
      ]
     },
     "metadata": {},
     "output_type": "display_data"
    }
   ],
   "source": [
    "ts = np.linspace(0.0, 29.75, 360)\n",
    "spreads = np.vectorize(swap_spread)(\n",
    "    0.0, ts, 0.25, comp.value(\"usd_libor_curve\"), comp.value(\"usd_ois_curve\"), comp.value(\"usd_ois_curve\")\n",
    ")\n",
    "plt.plot(ts, spreads, label=\"Model LIBOR-OIS Spreads\")\n",
    "plt.scatter(comp.value(\"usd_ois_ts\"), comp.value(\"usd_libor_ois_mkt_spreads\"), label=\"Market LIBOR-OIS Spreads\")\n",
    "plt.legend()"
   ]
  },
  {
   "cell_type": "code",
   "execution_count": 20,
   "metadata": {
    "collapsed": false
   },
   "outputs": [
    {
     "name": "stderr",
     "output_type": "stream",
     "text": [
      "C:\\ProgramData\\Anaconda3\\lib\\site-packages\\ipykernel\\__main__.py:19: RuntimeWarning: invalid value encountered in double_scalars\n"
     ]
    },
    {
     "data": {
      "text/plain": [
       "<matplotlib.legend.Legend at 0x2539107b7f0>"
      ]
     },
     "execution_count": 20,
     "metadata": {},
     "output_type": "execute_result"
    },
    {
     "data": {
      "image/png": "[encoded data removed]",
      "text/plain": [
       "<matplotlib.figure.Figure at 0x25391003b00>"
      ]
     },
     "metadata": {},
     "output_type": "display_data"
    }
   ],
   "source": [
    "comp.value(\"usd_libor_curve\").plot()\n",
    "plt.scatter(comp.value(\"usd_libor_ts\"), comp.value(\"usd_libor_mkt_swap_rates\"), label=\"Mkt Swap Rates\")\n",
    "plt.legend()"
   ]
  },
  {
   "cell_type": "code",
   "execution_count": 21,
   "metadata": {
    "collapsed": false
   },
   "outputs": [
    {
     "name": "stderr",
     "output_type": "stream",
     "text": [
      "C:\\ProgramData\\Anaconda3\\lib\\site-packages\\ipykernel\\__main__.py:19: RuntimeWarning: invalid value encountered in double_scalars\n"
     ]
    },
    {
     "data": {
      "image/png": "[encoded data removed]",
      "text/plain": [
       "<matplotlib.figure.Figure at 0x25390cdcef0>"
      ]
     },
     "metadata": {},
     "output_type": "display_data"
    }
   ],
   "source": [
    "comp.value(\"usd_ois_curve\").plot()"
   ]
  },
  {
   "cell_type": "markdown",
   "metadata": {},
   "source": [
    "## Revisiting Portfolio Valuation\n",
    "\n",
    "Now that we have two curves, and our swaps could potentially be projected and discounted with different curves, it's appropriate to introduce a new node, **curveset** and have the valuation of our portfolio depend on that curveset, rather than pointing directly at specific curves. When we create **curveset**, we can also put in a check that our fit was good.\n",
    "\n",
    "We update the design of our Swap instrument, and recreate the portfolio with the additional information.\n",
    "\n",
    "By design, Loman lets us redefine the function that calculates portfolio_val and have it depend on **curveset** rather than **usd_libor_curve**, and the Swap instruments themselves direct curves to take from **curveset** to perform valuation."
   ]
  },
  {
   "cell_type": "code",
   "execution_count": 22,
   "metadata": {
    "collapsed": false
   },
   "outputs": [
    {
     "data": {
      "image/svg+xml": "<?xml version=\"1.0\" encoding=\"UTF-8\" standalone=\"no\"?>\r\n<!DOCTYPE svg PUBLIC \"-//W3C//DTD SVG 1.1//EN\"\r\n \"http://www.w3.org/Graphics/SVG/1.1/DTD/svg11.dtd\">\r\n<!-- Generated by graphviz version 2.38.0 (20140413.2041)\r\n -->\r\n<!-- Title: %3 Pages: 1 -->\r\n<svg width=\"720pt\" height=\"434pt\"\r\n viewBox=\"0.00 0.00 720.00 433.71\" xmlns=\"http://www.w3.org/2000/svg\" xmlns:xlink=\"http://www.w3.org/1999/xlink\">\r\n<g id=\"graph0\" class=\"graph\" transform=\"scale(0.791451 0.791451) rotate(0) translate(4 544)\">\r\n<title>%3</title>\r\n<polygon fill=\"white\" stroke=\"none\" points=\"-4,4 -4,-544 905.722,-544 905.722,4 -4,4\"/>\r\n<!-- n0 -->\r\n<g id=\"node1\" class=\"node\"><title>n0</title>\r\n<ellipse fill=\"#15b01a\" stroke=\"black\" cx=\"99.3367\" cy=\"-450\" rx=\"56.59\" ry=\"18\"/>\r\n<text text-anchor=\"middle\" x=\"99.3367\" y=\"-446.3\" font-family=\"Times New Roman,serif\" font-size=\"14.00\">usd_libor_ts</text>\r\n</g>\r\n<!-- n2 -->\r\n<g id=\"node3\" class=\"node\"><title>n2</title>\r\n<ellipse fill=\"#15b01a\" stroke=\"black\" cx=\"197.337\" cy=\"-378\" rx=\"70.3881\" ry=\"18\"/>\r\n<text text-anchor=\"middle\" x=\"197.337\" y=\"-374.3\" font-family=\"Times New Roman,serif\" font-size=\"14.00\">usd_libor_curve</text>\r\n</g>\r\n<!-- n0&#45;&gt;n2 -->\r\n<g id=\"edge1\" class=\"edge\"><title>n0&#45;&gt;n2</title>\r\n<path fill=\"none\" stroke=\"black\" d=\"M121.574,-433.116C134.887,-423.607 152.001,-411.382 166.595,-400.959\"/>\r\n<polygon fill=\"black\" stroke=\"black\" points=\"168.745,-403.724 174.848,-395.064 164.676,-398.028 168.745,-403.724\"/>\r\n</g>\r\n<!-- n3 -->\r\n<g id=\"node4\" class=\"node\"><title>n3</title>\r\n<ellipse fill=\"#15b01a\" stroke=\"black\" cx=\"107.337\" cy=\"-306\" rx=\"90.9839\" ry=\"18\"/>\r\n<text text-anchor=\"middle\" x=\"107.337\" y=\"-302.3\" font-family=\"Times New Roman,serif\" font-size=\"14.00\">usd_libor_swap_rates</text>\r\n</g>\r\n<!-- n0&#45;&gt;n3 -->\r\n<g id=\"edge2\" class=\"edge\"><title>n0&#45;&gt;n3</title>\r\n<path fill=\"none\" stroke=\"black\" d=\"M100.302,-431.871C101.665,-407.67 104.17,-363.211 105.793,-334.393\"/>\r\n<polygon fill=\"black\" stroke=\"black\" points=\"109.3,-334.37 106.368,-324.189 102.311,-333.977 109.3,-334.37\"/>\r\n</g>\r\n<!-- n1 -->\r\n<g id=\"node2\" class=\"node\"><title>n1</title>\r\n<ellipse fill=\"#15b01a\" stroke=\"black\" cx=\"250.337\" cy=\"-450\" rx=\"76.8869\" ry=\"18\"/>\r\n<text text-anchor=\"middle\" x=\"250.337\" y=\"-446.3\" font-family=\"Times New Roman,serif\" font-size=\"14.00\">usd_libor_c_rates</text>\r\n</g>\r\n<!-- n1&#45;&gt;n2 -->\r\n<g id=\"edge3\" class=\"edge\"><title>n1&#45;&gt;n2</title>\r\n<path fill=\"none\" stroke=\"black\" d=\"M237.507,-432.055C231.127,-423.629 223.291,-413.28 216.24,-403.966\"/>\r\n<polygon fill=\"black\" stroke=\"black\" points=\"218.875,-401.649 210.048,-395.789 213.294,-405.874 218.875,-401.649\"/>\r\n</g>\r\n<!-- n2&#45;&gt;n3 -->\r\n<g id=\"edge5\" class=\"edge\"><title>n2&#45;&gt;n3</title>\r\n<path fill=\"none\" stroke=\"black\" d=\"M176.463,-360.765C164.706,-351.621 149.83,-340.05 136.892,-329.988\"/>\r\n<polygon fill=\"black\" stroke=\"black\" points=\"138.765,-327.01 128.723,-323.633 134.467,-332.536 138.765,-327.01\"/>\r\n</g>\r\n<!-- n12 -->\r\n<g id=\"node13\" class=\"node\"><title>n12</title>\r\n<ellipse fill=\"#15b01a\" stroke=\"black\" cx=\"548.337\" cy=\"-306\" rx=\"94.4839\" ry=\"18\"/>\r\n<text text-anchor=\"middle\" x=\"548.337\" y=\"-302.3\" font-family=\"Times New Roman,serif\" font-size=\"14.00\">usd_libor_ois_spreads</text>\r\n</g>\r\n<!-- n2&#45;&gt;n12 -->\r\n<g id=\"edge4\" class=\"edge\"><title>n2&#45;&gt;n12</title>\r\n<path fill=\"none\" stroke=\"black\" d=\"M251.028,-366.292C311.125,-354.307 408.824,-334.823 475.71,-321.484\"/>\r\n<polygon fill=\"black\" stroke=\"black\" points=\"476.636,-324.868 485.758,-319.48 475.267,-318.004 476.636,-324.868\"/>\r\n</g>\r\n<!-- n16 -->\r\n<g id=\"node17\" class=\"node\"><title>n16</title>\r\n<ellipse fill=\"#9dff00\" stroke=\"black\" cx=\"437.337\" cy=\"-90\" rx=\"40.8928\" ry=\"18\"/>\r\n<text text-anchor=\"middle\" x=\"437.337\" y=\"-86.3\" font-family=\"Times New Roman,serif\" font-size=\"14.00\">curveset</text>\r\n</g>\r\n<!-- n2&#45;&gt;n16 -->\r\n<g id=\"edge6\" class=\"edge\"><title>n2&#45;&gt;n16</title>\r\n<path fill=\"none\" stroke=\"black\" d=\"M132.799,-370.813C65.6182,-361.537 -25.5693,-339.271 7.33673,-288 93.0509,-154.45 294.401,-110.268 387.953,-96.6336\"/>\r\n<polygon fill=\"black\" stroke=\"black\" points=\"388.59,-100.079 398.008,-95.2259 387.619,-93.1463 388.59,-100.079\"/>\r\n</g>\r\n<!-- n5 -->\r\n<g id=\"node6\" class=\"node\"><title>n5</title>\r\n<ellipse fill=\"#15b01a\" stroke=\"black\" cx=\"326.337\" cy=\"-234\" rx=\"92.8835\" ry=\"18\"/>\r\n<text text-anchor=\"middle\" x=\"326.337\" y=\"-230.3\" font-family=\"Times New Roman,serif\" font-size=\"14.00\">usd_libor_fitting_error</text>\r\n</g>\r\n<!-- n3&#45;&gt;n5 -->\r\n<g id=\"edge7\" class=\"edge\"><title>n3&#45;&gt;n5</title>\r\n<path fill=\"none\" stroke=\"black\" d=\"M152.98,-290.411C187.126,-279.497 234.006,-264.512 270.406,-252.877\"/>\r\n<polygon fill=\"black\" stroke=\"black\" points=\"271.916,-256.069 280.376,-249.691 269.785,-249.401 271.916,-256.069\"/>\r\n</g>\r\n<!-- n4 -->\r\n<g id=\"node5\" class=\"node\"><title>n4</title>\r\n<ellipse fill=\"#15b01a\" stroke=\"black\" cx=\"326.337\" cy=\"-306\" rx=\"109.681\" ry=\"18\"/>\r\n<text text-anchor=\"middle\" x=\"326.337\" y=\"-302.3\" font-family=\"Times New Roman,serif\" font-size=\"14.00\">usd_libor_mkt_swap_rates</text>\r\n</g>\r\n<!-- n4&#45;&gt;n5 -->\r\n<g id=\"edge8\" class=\"edge\"><title>n4&#45;&gt;n5</title>\r\n<path fill=\"none\" stroke=\"black\" d=\"M326.337,-287.697C326.337,-279.983 326.337,-270.712 326.337,-262.112\"/>\r\n<polygon fill=\"black\" stroke=\"black\" points=\"329.837,-262.104 326.337,-252.104 322.837,-262.104 329.837,-262.104\"/>\r\n</g>\r\n<!-- n15 -->\r\n<g id=\"node16\" class=\"node\"><title>n15</title>\r\n<ellipse fill=\"#15b01a\" stroke=\"black\" cx=\"437.337\" cy=\"-162\" rx=\"71.4873\" ry=\"18\"/>\r\n<text text-anchor=\"middle\" x=\"437.337\" y=\"-158.3\" font-family=\"Times New Roman,serif\" font-size=\"14.00\">usd_fitting_error</text>\r\n</g>\r\n<!-- n5&#45;&gt;n15 -->\r\n<g id=\"edge9\" class=\"edge\"><title>n5&#45;&gt;n15</title>\r\n<path fill=\"none\" stroke=\"black\" d=\"M352.361,-216.588C367.5,-207.041 386.76,-194.895 403.115,-184.581\"/>\r\n<polygon fill=\"black\" stroke=\"black\" points=\"405.266,-187.362 411.858,-179.068 401.533,-181.441 405.266,-187.362\"/>\r\n</g>\r\n<!-- n6 -->\r\n<g id=\"node7\" class=\"node\"><title>n6</title>\r\n<ellipse fill=\"#15b01a\" stroke=\"black\" cx=\"538.337\" cy=\"-90\" rx=\"42.4939\" ry=\"18\"/>\r\n<text text-anchor=\"middle\" x=\"538.337\" y=\"-86.3\" font-family=\"Times New Roman,serif\" font-size=\"14.00\">portfolio</text>\r\n</g>\r\n<!-- n7 -->\r\n<g id=\"node8\" class=\"node\"><title>n7</title>\r\n<ellipse fill=\"#0343df\" stroke=\"black\" cx=\"487.337\" cy=\"-18\" rx=\"57.6901\" ry=\"18\"/>\r\n<text text-anchor=\"middle\" x=\"487.337\" y=\"-14.3\" font-family=\"Times New Roman,serif\" font-size=\"14.00\">portfolio_val</text>\r\n</g>\r\n<!-- n6&#45;&gt;n7 -->\r\n<g id=\"edge10\" class=\"edge\"><title>n6&#45;&gt;n7</title>\r\n<path fill=\"none\" stroke=\"black\" d=\"M526.25,-72.411C520.116,-63.9915 512.534,-53.585 505.697,-44.2007\"/>\r\n<polygon fill=\"black\" stroke=\"black\" points=\"508.408,-41.9776 499.691,-35.9562 502.75,-46.0996 508.408,-41.9776\"/>\r\n</g>\r\n<!-- n8 -->\r\n<g id=\"node9\" class=\"node\"><title>n8</title>\r\n<ellipse fill=\"#15b01a\" stroke=\"black\" cx=\"556.337\" cy=\"-450\" rx=\"50.8918\" ry=\"18\"/>\r\n<text text-anchor=\"middle\" x=\"556.337\" y=\"-446.3\" font-family=\"Times New Roman,serif\" font-size=\"14.00\">usd_ois_ts</text>\r\n</g>\r\n<!-- n10 -->\r\n<g id=\"node11\" class=\"node\"><title>n10</title>\r\n<ellipse fill=\"#15b01a\" stroke=\"black\" cx=\"464.337\" cy=\"-378\" rx=\"64.189\" ry=\"18\"/>\r\n<text text-anchor=\"middle\" x=\"464.337\" y=\"-374.3\" font-family=\"Times New Roman,serif\" font-size=\"14.00\">usd_ois_curve</text>\r\n</g>\r\n<!-- n8&#45;&gt;n10 -->\r\n<g id=\"edge11\" class=\"edge\"><title>n8&#45;&gt;n10</title>\r\n<path fill=\"none\" stroke=\"black\" d=\"M535.919,-433.465C523.556,-424.058 507.579,-411.902 493.857,-401.461\"/>\r\n<polygon fill=\"black\" stroke=\"black\" points=\"495.734,-398.491 485.657,-395.222 491.495,-404.062 495.734,-398.491\"/>\r\n</g>\r\n<!-- n8&#45;&gt;n12 -->\r\n<g id=\"edge12\" class=\"edge\"><title>n8&#45;&gt;n12</title>\r\n<path fill=\"none\" stroke=\"black\" d=\"M555.372,-431.871C554.008,-407.67 551.504,-363.211 549.88,-334.393\"/>\r\n<polygon fill=\"black\" stroke=\"black\" points=\"553.362,-333.977 549.305,-324.189 546.373,-334.37 553.362,-333.977\"/>\r\n</g>\r\n<!-- n9 -->\r\n<g id=\"node10\" class=\"node\"><title>n9</title>\r\n<ellipse fill=\"#15b01a\" stroke=\"black\" cx=\"416.337\" cy=\"-450\" rx=\"70.6878\" ry=\"18\"/>\r\n<text text-anchor=\"middle\" x=\"416.337\" y=\"-446.3\" font-family=\"Times New Roman,serif\" font-size=\"14.00\">usd_ois_c_rates</text>\r\n</g>\r\n<!-- n9&#45;&gt;n10 -->\r\n<g id=\"edge13\" class=\"edge\"><title>n9&#45;&gt;n10</title>\r\n<path fill=\"none\" stroke=\"black\" d=\"M427.956,-432.055C433.675,-423.715 440.686,-413.491 447.021,-404.252\"/>\r\n<polygon fill=\"black\" stroke=\"black\" points=\"450.056,-406.016 452.824,-395.789 444.282,-402.057 450.056,-406.016\"/>\r\n</g>\r\n<!-- n10&#45;&gt;n3 -->\r\n<g id=\"edge15\" class=\"edge\"><title>n10&#45;&gt;n3</title>\r\n<path fill=\"none\" stroke=\"black\" d=\"M413.187,-366.971C351.902,-354.954 248.827,-334.743 179.473,-321.144\"/>\r\n<polygon fill=\"black\" stroke=\"black\" points=\"179.981,-317.677 169.494,-319.188 178.634,-324.547 179.981,-317.677\"/>\r\n</g>\r\n<!-- n10&#45;&gt;n12 -->\r\n<g id=\"edge14\" class=\"edge\"><title>n10&#45;&gt;n12</title>\r\n<path fill=\"none\" stroke=\"black\" d=\"M483.819,-360.765C494.688,-351.708 508.412,-340.27 520.406,-330.276\"/>\r\n<polygon fill=\"black\" stroke=\"black\" points=\"522.935,-332.724 528.377,-323.633 518.454,-327.346 522.935,-332.724\"/>\r\n</g>\r\n<!-- n10&#45;&gt;n16 -->\r\n<g id=\"edge16\" class=\"edge\"><title>n10&#45;&gt;n16</title>\r\n<path fill=\"none\" stroke=\"black\" d=\"M527.04,-373.79C640.503,-367.336 870.419,-351.046 894.337,-324 904.936,-312.014 903.13,-301.367 894.337,-288 869.701,-250.553 584.701,-144.364 477.645,-105.489\"/>\r\n<polygon fill=\"black\" stroke=\"black\" points=\"478.746,-102.166 468.152,-102.05 476.361,-108.747 478.746,-102.166\"/>\r\n</g>\r\n<!-- n11 -->\r\n<g id=\"node12\" class=\"node\"><title>n11</title>\r\n<ellipse fill=\"#15b01a\" stroke=\"black\" cx=\"773.337\" cy=\"-306\" rx=\"112.38\" ry=\"18\"/>\r\n<text text-anchor=\"middle\" x=\"773.337\" y=\"-302.3\" font-family=\"Times New Roman,serif\" font-size=\"14.00\">usd_libor_ois_mkt_spreads</text>\r\n</g>\r\n<!-- n13 -->\r\n<g id=\"node14\" class=\"node\"><title>n13</title>\r\n<ellipse fill=\"#15b01a\" stroke=\"black\" cx=\"548.337\" cy=\"-234\" rx=\"108.581\" ry=\"18\"/>\r\n<text text-anchor=\"middle\" x=\"548.337\" y=\"-230.3\" font-family=\"Times New Roman,serif\" font-size=\"14.00\">usd_libor_ois_fitting_error</text>\r\n</g>\r\n<!-- n11&#45;&gt;n13 -->\r\n<g id=\"edge17\" class=\"edge\"><title>n11&#45;&gt;n13</title>\r\n<path fill=\"none\" stroke=\"black\" d=\"M724.238,-289.725C689.725,-278.988 643.394,-264.573 606.945,-253.234\"/>\r\n<polygon fill=\"black\" stroke=\"black\" points=\"607.532,-249.751 596.944,-250.122 605.453,-256.435 607.532,-249.751\"/>\r\n</g>\r\n<!-- n12&#45;&gt;n13 -->\r\n<g id=\"edge18\" class=\"edge\"><title>n12&#45;&gt;n13</title>\r\n<path fill=\"none\" stroke=\"black\" d=\"M548.337,-287.697C548.337,-279.983 548.337,-270.712 548.337,-262.112\"/>\r\n<polygon fill=\"black\" stroke=\"black\" points=\"551.837,-262.104 548.337,-252.104 544.837,-262.104 551.837,-262.104\"/>\r\n</g>\r\n<!-- n13&#45;&gt;n15 -->\r\n<g id=\"edge19\" class=\"edge\"><title>n13&#45;&gt;n15</title>\r\n<path fill=\"none\" stroke=\"black\" d=\"M522.031,-216.411C506.885,-206.859 487.684,-194.751 471.395,-184.478\"/>\r\n<polygon fill=\"black\" stroke=\"black\" points=\"473.015,-181.362 462.689,-178.988 469.281,-187.283 473.015,-181.362\"/>\r\n</g>\r\n<!-- n14 -->\r\n<g id=\"node15\" class=\"node\"><title>n14</title>\r\n<ellipse fill=\"#15b01a\" stroke=\"black\" cx=\"333.337\" cy=\"-522\" rx=\"55.4913\" ry=\"18\"/>\r\n<text text-anchor=\"middle\" x=\"333.337\" y=\"-518.3\" font-family=\"Times New Roman,serif\" font-size=\"14.00\">usd_c_rates</text>\r\n</g>\r\n<!-- n14&#45;&gt;n1 -->\r\n<g id=\"edge20\" class=\"edge\"><title>n14&#45;&gt;n1</title>\r\n<path fill=\"none\" stroke=\"black\" d=\"M314.086,-504.765C303.347,-495.708 289.786,-484.27 277.935,-474.276\"/>\r\n<polygon fill=\"black\" stroke=\"black\" points=\"279.96,-471.405 270.059,-467.633 275.447,-476.756 279.96,-471.405\"/>\r\n</g>\r\n<!-- n14&#45;&gt;n9 -->\r\n<g id=\"edge21\" class=\"edge\"><title>n14&#45;&gt;n9</title>\r\n<path fill=\"none\" stroke=\"black\" d=\"M352.587,-504.765C363.404,-495.642 377.084,-484.105 388.996,-474.059\"/>\r\n<polygon fill=\"black\" stroke=\"black\" points=\"391.515,-476.512 396.903,-467.39 387.002,-471.161 391.515,-476.512\"/>\r\n</g>\r\n<!-- n15&#45;&gt;n16 -->\r\n<g id=\"edge22\" class=\"edge\"><title>n15&#45;&gt;n16</title>\r\n<path fill=\"none\" stroke=\"black\" d=\"M437.337,-143.697C437.337,-135.983 437.337,-126.712 437.337,-118.112\"/>\r\n<polygon fill=\"black\" stroke=\"black\" points=\"440.837,-118.104 437.337,-108.104 433.837,-118.104 440.837,-118.104\"/>\r\n</g>\r\n<!-- n16&#45;&gt;n7 -->\r\n<g id=\"edge23\" class=\"edge\"><title>n16&#45;&gt;n7</title>\r\n<path fill=\"none\" stroke=\"black\" d=\"M449.186,-72.411C455.2,-63.9915 462.633,-53.585 469.336,-44.2007\"/>\r\n<polygon fill=\"black\" stroke=\"black\" points=\"472.261,-46.1279 475.225,-35.9562 466.565,-42.0592 472.261,-46.1279\"/>\r\n</g>\r\n</g>\r\n</svg>\r\n",
      "text/plain": [
       "<graphviz.dot.Digraph at 0x2539106cf98>"
      ]
     },
     "execution_count": 22,
     "metadata": {},
     "output_type": "execute_result"
    }
   ],
   "source": [
    "Swap = namedtuple(\"Swap\", [\"notional\", \"start\", \"end\", \"rate\", \"freq\", \"projection_curve\", \"discount_curve\"])\n",
    "\n",
    "\n",
    "def create_curveset(usd_libor_curve, usd_ois_curve, usd_fitting_error):\n",
    "    if np.max(np.abs(usd_fitting_error) > 0.00001):\n",
    "        raise Exception(\"Fitting error > 0.1bps\")\n",
    "    return {\"USD-LIBOR-3M\": usd_libor_curve, \"USD-OIS\": usd_ois_curve}\n",
    "\n",
    "\n",
    "comp.add_node(\"curveset\", create_curveset)\n",
    "\n",
    "comp.insert(\n",
    "    \"portfolio\",\n",
    "    [\n",
    "        Swap(10000000, 5, 10, 0.025, 0.25, \"USD-LIBOR-3M\", \"USD-OIS\"),\n",
    "        Swap(-5000000, 2.5, 12.5, 0.02, 0.25, \"USD-LIBOR-3M\", \"USD-OIS\"),\n",
    "    ],\n",
    ")\n",
    "\n",
    "comp.add_node(\n",
    "    \"portfolio_val\",\n",
    "    lambda portfolio, curveset: [\n",
    "        swap_pv(swap, curveset[swap.projection_curve], curveset[swap.discount_curve]) for swap in portfolio\n",
    "    ],\n",
    ")\n",
    "comp.draw(graph_attr={\"size\": \"10,8\"})"
   ]
  },
  {
   "cell_type": "markdown",
   "metadata": {},
   "source": [
    "Finally, we can see that our valuation is close but materially different to the previous LIBOR-only curve's result (86,395 and -274,086), exactly as we expect."
   ]
  },
  {
   "cell_type": "code",
   "execution_count": 23,
   "metadata": {
    "collapsed": false
   },
   "outputs": [
    {
     "data": {
      "text/plain": [
       "[85859.407115714959, -278864.22970371263]"
      ]
     },
     "execution_count": 23,
     "metadata": {},
     "output_type": "execute_result"
    }
   ],
   "source": [
    "comp.compute(\"portfolio_val\")\n",
    "comp.value(\"portfolio_val\")"
   ]
  },
  {
   "cell_type": "markdown",
   "metadata": {},
   "source": [
    "# Risks\n",
    "\n",
    "There are a few ways to calculate risk for a book of interest rate derivatives:\n",
    "  \n",
    "  * Spot risks directly. We can directly perturb the inputs **usd_libor_mkt_swap_rates** or **usd_libor_ois_mkt_spreads** one element at a time, recalibrating, and repricing the portfolio each time.\n",
    "  * Spot risks, using Jacobians. We can perturb the inputs **usd_libor_c_rates** and **usd_ois_c_rates**, using the changes in **usd_libor_swap_rates** and **usd_libor_ois_spreads** to calculate a Jacobian. Applying the inverse of this Jacobian matrix on the matrix of portfolio valuation changes gives us the sensitivities to market instruments as above, without the need to recalibrate.\n",
    "  * Forward risk. We can directly perturb the curve using $r'(t; a,b) = r(t) + \\delta I_{a \\le t < b}$ to create a new curve where the continuously-compounded rate is elevated in the region $[a,b)$. This will cause the forward swap rate to change by some amount, and by scaling $\\delta$, we can make that amount 1bp (or we can scale the PV changes to the same effect), so we can get the risk for our portfolio to a set of forwards, potentially with much higher granularity than our initial set of calibration instruments. Additionally this method is more numerically stable when using non-local interpolations for curve construction.\n",
    "  \n",
    "For this exposition, we will go with the latter method, and to keep things moving along, we will only produce risks to the LIBOR curve.\n",
    "\n",
    "To accommodate this change, we'll create a new node called **usd_libor_curve_perturbed** which will be fed into **curveset** for valuation, and will itself be created from **usd_libor_curve** and a control input called **usd_libor_curve_perturbation**.\n",
    "\n",
    "First things first, we need to define how to create a perturbed curve, using the recipe above. Note that once we've defined r and r_quad, everything else will flow through"
   ]
  },
  {
   "cell_type": "code",
   "execution_count": 24,
   "metadata": {
    "collapsed": false
   },
   "outputs": [],
   "source": [
    "class SumCurve(BaseIRCurve):\n",
    "    def __init__(self, *curves):\n",
    "        self.curves = curves\n",
    "\n",
    "    def r_quad(self, s, t):\n",
    "        return sum(curve.r_quad(s, t) for curve in self.curves)\n",
    "\n",
    "    def r(self, t):\n",
    "        return sum(curve.r(t) for curve in self.curves)\n",
    "\n",
    "\n",
    "def create_perturbed_curve(curve, start, end, amount):\n",
    "    pert_curv = FlatIRCurve(np.array([start, end, np.max(curve.ts)]), np.array([0.0, amount, 0.0]))\n",
    "    return SumCurve(curve, pert_curv)"
   ]
  },
  {
   "cell_type": "markdown",
   "metadata": {},
   "source": [
    "To test this is working, we can see what happens when we bump the continuously-compounded rate by 5% between years 5 and 10 for example."
   ]
  },
  {
   "cell_type": "code",
   "execution_count": 25,
   "metadata": {
    "collapsed": false
   },
   "outputs": [
    {
     "name": "stderr",
     "output_type": "stream",
     "text": [
      "C:\\ProgramData\\Anaconda3\\lib\\site-packages\\ipykernel\\__main__.py:19: RuntimeWarning: invalid value encountered in double_scalars\n"
     ]
    },
    {
     "data": {
      "image/png": "[encoded data removed]",
      "text/plain": [
       "<matplotlib.figure.Figure at 0x25391073ac8>"
      ]
     },
     "metadata": {},
     "output_type": "display_data"
    }
   ],
   "source": [
    "create_perturbed_curve(comp.value(\"usd_libor_curve\"), 5.0, 10.0, 0.05).plot()"
   ]
  },
  {
   "cell_type": "markdown",
   "metadata": {},
   "source": [
    "That looks as we expect, so we can go ahead and add our new nodes:"
   ]
  },
  {
   "cell_type": "code",
   "execution_count": 26,
   "metadata": {
    "collapsed": false
   },
   "outputs": [
    {
     "data": {
      "image/svg+xml": "<?xml version=\"1.0\" encoding=\"UTF-8\" standalone=\"no\"?>\r\n<!DOCTYPE svg PUBLIC \"-//W3C//DTD SVG 1.1//EN\"\r\n \"http://www.w3.org/Graphics/SVG/1.1/DTD/svg11.dtd\">\r\n<!-- Generated by graphviz version 2.38.0 (20140413.2041)\r\n -->\r\n<!-- Title: %3 Pages: 1 -->\r\n<svg width=\"720pt\" height=\"346pt\"\r\n viewBox=\"0.00 0.00 720.00 345.94\" xmlns=\"http://www.w3.org/2000/svg\" xmlns:xlink=\"http://www.w3.org/1999/xlink\">\r\n<g id=\"graph0\" class=\"graph\" transform=\"scale(0.631286 0.631286) rotate(0) translate(4 544)\">\r\n<title>%3</title>\r\n<polygon fill=\"white\" stroke=\"none\" points=\"-4,4 -4,-544 1136.53,-544 1136.53,4 -4,4\"/>\r\n<!-- n0 -->\r\n<g id=\"node1\" class=\"node\"><title>n0</title>\r\n<ellipse fill=\"#15b01a\" stroke=\"black\" cx=\"771.59\" cy=\"-450\" rx=\"56.59\" ry=\"18\"/>\r\n<text text-anchor=\"middle\" x=\"771.59\" y=\"-446.3\" font-family=\"Times New Roman,serif\" font-size=\"14.00\">usd_libor_ts</text>\r\n</g>\r\n<!-- n2 -->\r\n<g id=\"node3\" class=\"node\"><title>n2</title>\r\n<ellipse fill=\"#15b01a\" stroke=\"black\" cx=\"696.59\" cy=\"-378\" rx=\"70.3881\" ry=\"18\"/>\r\n<text text-anchor=\"middle\" x=\"696.59\" y=\"-374.3\" font-family=\"Times New Roman,serif\" font-size=\"14.00\">usd_libor_curve</text>\r\n</g>\r\n<!-- n0&#45;&gt;n2 -->\r\n<g id=\"edge1\" class=\"edge\"><title>n0&#45;&gt;n2</title>\r\n<path fill=\"none\" stroke=\"black\" d=\"M754.194,-432.765C744.584,-423.795 732.472,-412.49 721.837,-402.564\"/>\r\n<polygon fill=\"black\" stroke=\"black\" points=\"724.11,-399.898 714.411,-395.633 719.333,-405.015 724.11,-399.898\"/>\r\n</g>\r\n<!-- n3 -->\r\n<g id=\"node4\" class=\"node\"><title>n3</title>\r\n<ellipse fill=\"#15b01a\" stroke=\"black\" cx=\"794.59\" cy=\"-306\" rx=\"90.9839\" ry=\"18\"/>\r\n<text text-anchor=\"middle\" x=\"794.59\" y=\"-302.3\" font-family=\"Times New Roman,serif\" font-size=\"14.00\">usd_libor_swap_rates</text>\r\n</g>\r\n<!-- n0&#45;&gt;n3 -->\r\n<g id=\"edge2\" class=\"edge\"><title>n0&#45;&gt;n3</title>\r\n<path fill=\"none\" stroke=\"black\" d=\"M774.364,-431.871C778.284,-407.67 785.485,-363.211 790.153,-334.393\"/>\r\n<polygon fill=\"black\" stroke=\"black\" points=\"793.661,-334.62 791.805,-324.189 786.751,-333.501 793.661,-334.62\"/>\r\n</g>\r\n<!-- n1 -->\r\n<g id=\"node2\" class=\"node\"><title>n1</title>\r\n<ellipse fill=\"#15b01a\" stroke=\"black\" cx=\"575.59\" cy=\"-450\" rx=\"76.8869\" ry=\"18\"/>\r\n<text text-anchor=\"middle\" x=\"575.59\" y=\"-446.3\" font-family=\"Times New Roman,serif\" font-size=\"14.00\">usd_libor_c_rates</text>\r\n</g>\r\n<!-- n1&#45;&gt;n2 -->\r\n<g id=\"edge3\" class=\"edge\"><title>n1&#45;&gt;n2</title>\r\n<path fill=\"none\" stroke=\"black\" d=\"M603.046,-433.116C620.064,-423.271 642.113,-410.515 660.53,-399.861\"/>\r\n<polygon fill=\"black\" stroke=\"black\" points=\"662.338,-402.858 669.241,-394.821 658.833,-396.799 662.338,-402.858\"/>\r\n</g>\r\n<!-- n2&#45;&gt;n3 -->\r\n<g id=\"edge5\" class=\"edge\"><title>n2&#45;&gt;n3</title>\r\n<path fill=\"none\" stroke=\"black\" d=\"M719.319,-360.765C732.243,-351.533 748.628,-339.83 762.809,-329.701\"/>\r\n<polygon fill=\"black\" stroke=\"black\" points=\"765.2,-332.294 771.303,-323.633 761.131,-326.598 765.2,-332.294\"/>\r\n</g>\r\n<!-- n12 -->\r\n<g id=\"node13\" class=\"node\"><title>n12</title>\r\n<ellipse fill=\"#15b01a\" stroke=\"black\" cx=\"110.59\" cy=\"-306\" rx=\"94.4839\" ry=\"18\"/>\r\n<text text-anchor=\"middle\" x=\"110.59\" y=\"-302.3\" font-family=\"Times New Roman,serif\" font-size=\"14.00\">usd_libor_ois_spreads</text>\r\n</g>\r\n<!-- n2&#45;&gt;n12 -->\r\n<g id=\"edge4\" class=\"edge\"><title>n2&#45;&gt;n12</title>\r\n<path fill=\"none\" stroke=\"black\" d=\"M631.748,-370.961C539.074,-362.083 363.477,-344.34 214.59,-324 206.029,-322.83 197.087,-321.514 188.197,-320.144\"/>\r\n<polygon fill=\"black\" stroke=\"black\" points=\"188.625,-316.669 178.204,-318.581 187.542,-323.585 188.625,-316.669\"/>\r\n</g>\r\n<!-- n18 -->\r\n<g id=\"node19\" class=\"node\"><title>n18</title>\r\n<ellipse fill=\"#9dff00\" stroke=\"black\" cx=\"1013.59\" cy=\"-306\" rx=\"110.48\" ry=\"18\"/>\r\n<text text-anchor=\"middle\" x=\"1013.59\" y=\"-302.3\" font-family=\"Times New Roman,serif\" font-size=\"14.00\">usd_libor_curve_perturbed</text>\r\n</g>\r\n<!-- n2&#45;&gt;n18 -->\r\n<g id=\"edge6\" class=\"edge\"><title>n2&#45;&gt;n18</title>\r\n<path fill=\"none\" stroke=\"black\" d=\"M747.873,-365.675C800.218,-354.117 881.932,-336.073 940.927,-323.045\"/>\r\n<polygon fill=\"black\" stroke=\"black\" points=\"941.918,-326.411 950.928,-320.837 940.408,-319.576 941.918,-326.411\"/>\r\n</g>\r\n<!-- n5 -->\r\n<g id=\"node6\" class=\"node\"><title>n5</title>\r\n<ellipse fill=\"#15b01a\" stroke=\"black\" cx=\"575.59\" cy=\"-234\" rx=\"92.8835\" ry=\"18\"/>\r\n<text text-anchor=\"middle\" x=\"575.59\" y=\"-230.3\" font-family=\"Times New Roman,serif\" font-size=\"14.00\">usd_libor_fitting_error</text>\r\n</g>\r\n<!-- n3&#45;&gt;n5 -->\r\n<g id=\"edge7\" class=\"edge\"><title>n3&#45;&gt;n5</title>\r\n<path fill=\"none\" stroke=\"black\" d=\"M748.947,-290.411C714.801,-279.497 667.92,-264.512 631.52,-252.877\"/>\r\n<polygon fill=\"black\" stroke=\"black\" points=\"632.141,-249.401 621.55,-249.691 630.01,-256.069 632.141,-249.401\"/>\r\n</g>\r\n<!-- n4 -->\r\n<g id=\"node5\" class=\"node\"><title>n4</title>\r\n<ellipse fill=\"#15b01a\" stroke=\"black\" cx=\"575.59\" cy=\"-306\" rx=\"109.681\" ry=\"18\"/>\r\n<text text-anchor=\"middle\" x=\"575.59\" y=\"-302.3\" font-family=\"Times New Roman,serif\" font-size=\"14.00\">usd_libor_mkt_swap_rates</text>\r\n</g>\r\n<!-- n4&#45;&gt;n5 -->\r\n<g id=\"edge8\" class=\"edge\"><title>n4&#45;&gt;n5</title>\r\n<path fill=\"none\" stroke=\"black\" d=\"M575.59,-287.697C575.59,-279.983 575.59,-270.712 575.59,-262.112\"/>\r\n<polygon fill=\"black\" stroke=\"black\" points=\"579.09,-262.104 575.59,-252.104 572.09,-262.104 579.09,-262.104\"/>\r\n</g>\r\n<!-- n15 -->\r\n<g id=\"node16\" class=\"node\"><title>n15</title>\r\n<ellipse fill=\"#15b01a\" stroke=\"black\" cx=\"455.59\" cy=\"-162\" rx=\"71.4873\" ry=\"18\"/>\r\n<text text-anchor=\"middle\" x=\"455.59\" y=\"-158.3\" font-family=\"Times New Roman,serif\" font-size=\"14.00\">usd_fitting_error</text>\r\n</g>\r\n<!-- n5&#45;&gt;n15 -->\r\n<g id=\"edge9\" class=\"edge\"><title>n5&#45;&gt;n15</title>\r\n<path fill=\"none\" stroke=\"black\" d=\"M547.757,-216.765C531.131,-207.066 509.825,-194.638 491.888,-184.174\"/>\r\n<polygon fill=\"black\" stroke=\"black\" points=\"493.258,-180.921 482.857,-178.906 489.731,-186.968 493.258,-180.921\"/>\r\n</g>\r\n<!-- n6 -->\r\n<g id=\"node7\" class=\"node\"><title>n6</title>\r\n<ellipse fill=\"#15b01a\" stroke=\"black\" cx=\"354.59\" cy=\"-90\" rx=\"42.4939\" ry=\"18\"/>\r\n<text text-anchor=\"middle\" x=\"354.59\" y=\"-86.3\" font-family=\"Times New Roman,serif\" font-size=\"14.00\">portfolio</text>\r\n</g>\r\n<!-- n7 -->\r\n<g id=\"node8\" class=\"node\"><title>n7</title>\r\n<ellipse fill=\"#ffff14\" stroke=\"black\" cx=\"404.59\" cy=\"-18\" rx=\"57.6901\" ry=\"18\"/>\r\n<text text-anchor=\"middle\" x=\"404.59\" y=\"-14.3\" font-family=\"Times New Roman,serif\" font-size=\"14.00\">portfolio_val</text>\r\n</g>\r\n<!-- n6&#45;&gt;n7 -->\r\n<g id=\"edge10\" class=\"edge\"><title>n6&#45;&gt;n7</title>\r\n<path fill=\"none\" stroke=\"black\" d=\"M366.439,-72.411C372.453,-63.9915 379.886,-53.585 386.589,-44.2007\"/>\r\n<polygon fill=\"black\" stroke=\"black\" points=\"389.514,-46.1279 392.478,-35.9562 383.817,-42.0592 389.514,-46.1279\"/>\r\n</g>\r\n<!-- n8 -->\r\n<g id=\"node9\" class=\"node\"><title>n8</title>\r\n<ellipse fill=\"#15b01a\" stroke=\"black\" cx=\"156.59\" cy=\"-450\" rx=\"50.8918\" ry=\"18\"/>\r\n<text text-anchor=\"middle\" x=\"156.59\" y=\"-446.3\" font-family=\"Times New Roman,serif\" font-size=\"14.00\">usd_ois_ts</text>\r\n</g>\r\n<!-- n10 -->\r\n<g id=\"node11\" class=\"node\"><title>n10</title>\r\n<ellipse fill=\"#15b01a\" stroke=\"black\" cx=\"202.59\" cy=\"-378\" rx=\"64.189\" ry=\"18\"/>\r\n<text text-anchor=\"middle\" x=\"202.59\" y=\"-374.3\" font-family=\"Times New Roman,serif\" font-size=\"14.00\">usd_ois_curve</text>\r\n</g>\r\n<!-- n8&#45;&gt;n10 -->\r\n<g id=\"edge11\" class=\"edge\"><title>n8&#45;&gt;n10</title>\r\n<path fill=\"none\" stroke=\"black\" d=\"M167.491,-432.411C172.967,-424.077 179.723,-413.797 185.84,-404.488\"/>\r\n<polygon fill=\"black\" stroke=\"black\" points=\"188.88,-406.235 191.447,-395.956 183.03,-402.391 188.88,-406.235\"/>\r\n</g>\r\n<!-- n8&#45;&gt;n12 -->\r\n<g id=\"edge12\" class=\"edge\"><title>n8&#45;&gt;n12</title>\r\n<path fill=\"none\" stroke=\"black\" d=\"M146.666,-432.316C140.968,-422.122 134.076,-408.653 129.59,-396 122.429,-375.804 117.523,-352.028 114.492,-334.134\"/>\r\n<polygon fill=\"black\" stroke=\"black\" points=\"117.921,-333.413 112.883,-324.093 111.009,-334.521 117.921,-333.413\"/>\r\n</g>\r\n<!-- n9 -->\r\n<g id=\"node10\" class=\"node\"><title>n9</title>\r\n<ellipse fill=\"#15b01a\" stroke=\"black\" cx=\"319.59\" cy=\"-450\" rx=\"70.6878\" ry=\"18\"/>\r\n<text text-anchor=\"middle\" x=\"319.59\" y=\"-446.3\" font-family=\"Times New Roman,serif\" font-size=\"14.00\">usd_ois_c_rates</text>\r\n</g>\r\n<!-- n9&#45;&gt;n10 -->\r\n<g id=\"edge13\" class=\"edge\"><title>n9&#45;&gt;n10</title>\r\n<path fill=\"none\" stroke=\"black\" d=\"M293.04,-433.116C276.62,-423.292 255.355,-410.569 237.57,-399.928\"/>\r\n<polygon fill=\"black\" stroke=\"black\" points=\"239.009,-396.711 228.631,-394.58 235.415,-402.718 239.009,-396.711\"/>\r\n</g>\r\n<!-- n10&#45;&gt;n3 -->\r\n<g id=\"edge15\" class=\"edge\"><title>n10&#45;&gt;n3</title>\r\n<path fill=\"none\" stroke=\"black\" d=\"M262.948,-371.695C355.876,-363.258 539.502,-345.515 694.59,-324 702.739,-322.869 711.244,-321.585 719.704,-320.241\"/>\r\n<polygon fill=\"black\" stroke=\"black\" points=\"720.278,-323.694 729.59,-318.642 719.16,-316.784 720.278,-323.694\"/>\r\n</g>\r\n<!-- n10&#45;&gt;n12 -->\r\n<g id=\"edge14\" class=\"edge\"><title>n10&#45;&gt;n12</title>\r\n<path fill=\"none\" stroke=\"black\" d=\"M181.252,-360.765C169.119,-351.533 153.737,-339.83 140.425,-329.701\"/>\r\n<polygon fill=\"black\" stroke=\"black\" points=\"142.528,-326.903 132.451,-323.633 138.29,-332.474 142.528,-326.903\"/>\r\n</g>\r\n<!-- n16 -->\r\n<g id=\"node17\" class=\"node\"><title>n16</title>\r\n<ellipse fill=\"#0343df\" stroke=\"black\" cx=\"455.59\" cy=\"-90\" rx=\"40.8928\" ry=\"18\"/>\r\n<text text-anchor=\"middle\" x=\"455.59\" y=\"-86.3\" font-family=\"Times New Roman,serif\" font-size=\"14.00\">curveset</text>\r\n</g>\r\n<!-- n10&#45;&gt;n16 -->\r\n<g id=\"edge16\" class=\"edge\"><title>n10&#45;&gt;n16</title>\r\n<path fill=\"none\" stroke=\"black\" d=\"M142.083,-371.855C72.6573,-363.352 -27.3947,-341.601 7.58951,-288 31.6299,-251.167 309.891,-145.029 415.382,-105.802\"/>\r\n<polygon fill=\"black\" stroke=\"black\" points=\"416.88,-108.98 425.037,-102.22 414.444,-102.417 416.88,-108.98\"/>\r\n</g>\r\n<!-- n11 -->\r\n<g id=\"node12\" class=\"node\"><title>n11</title>\r\n<ellipse fill=\"#15b01a\" stroke=\"black\" cx=\"335.59\" cy=\"-306\" rx=\"112.38\" ry=\"18\"/>\r\n<text text-anchor=\"middle\" x=\"335.59\" y=\"-302.3\" font-family=\"Times New Roman,serif\" font-size=\"14.00\">usd_libor_ois_mkt_spreads</text>\r\n</g>\r\n<!-- n13 -->\r\n<g id=\"node14\" class=\"node\"><title>n13</title>\r\n<ellipse fill=\"#15b01a\" stroke=\"black\" cx=\"335.59\" cy=\"-234\" rx=\"108.581\" ry=\"18\"/>\r\n<text text-anchor=\"middle\" x=\"335.59\" y=\"-230.3\" font-family=\"Times New Roman,serif\" font-size=\"14.00\">usd_libor_ois_fitting_error</text>\r\n</g>\r\n<!-- n11&#45;&gt;n13 -->\r\n<g id=\"edge17\" class=\"edge\"><title>n11&#45;&gt;n13</title>\r\n<path fill=\"none\" stroke=\"black\" d=\"M335.59,-287.697C335.59,-279.983 335.59,-270.712 335.59,-262.112\"/>\r\n<polygon fill=\"black\" stroke=\"black\" points=\"339.09,-262.104 335.59,-252.104 332.09,-262.104 339.09,-262.104\"/>\r\n</g>\r\n<!-- n12&#45;&gt;n13 -->\r\n<g id=\"edge18\" class=\"edge\"><title>n12&#45;&gt;n13</title>\r\n<path fill=\"none\" stroke=\"black\" d=\"M157.757,-290.326C192.534,-279.506 240.059,-264.721 277.23,-253.156\"/>\r\n<polygon fill=\"black\" stroke=\"black\" points=\"278.421,-256.451 286.93,-250.138 276.342,-249.767 278.421,-256.451\"/>\r\n</g>\r\n<!-- n13&#45;&gt;n15 -->\r\n<g id=\"edge19\" class=\"edge\"><title>n13&#45;&gt;n15</title>\r\n<path fill=\"none\" stroke=\"black\" d=\"M363.724,-216.588C380.36,-206.884 401.599,-194.494 419.464,-184.073\"/>\r\n<polygon fill=\"black\" stroke=\"black\" points=\"421.583,-186.889 428.457,-178.827 418.056,-180.843 421.583,-186.889\"/>\r\n</g>\r\n<!-- n14 -->\r\n<g id=\"node15\" class=\"node\"><title>n14</title>\r\n<ellipse fill=\"#15b01a\" stroke=\"black\" cx=\"447.59\" cy=\"-522\" rx=\"55.4913\" ry=\"18\"/>\r\n<text text-anchor=\"middle\" x=\"447.59\" y=\"-518.3\" font-family=\"Times New Roman,serif\" font-size=\"14.00\">usd_c_rates</text>\r\n</g>\r\n<!-- n14&#45;&gt;n1 -->\r\n<g id=\"edge20\" class=\"edge\"><title>n14&#45;&gt;n1</title>\r\n<path fill=\"none\" stroke=\"black\" d=\"M474.735,-506.155C493.063,-496.132 517.508,-482.763 537.741,-471.698\"/>\r\n<polygon fill=\"black\" stroke=\"black\" points=\"539.61,-474.666 546.704,-466.797 536.251,-468.524 539.61,-474.666\"/>\r\n</g>\r\n<!-- n14&#45;&gt;n9 -->\r\n<g id=\"edge21\" class=\"edge\"><title>n14&#45;&gt;n9</title>\r\n<path fill=\"none\" stroke=\"black\" d=\"M420.444,-506.155C401.989,-496.062 377.331,-482.578 357.017,-471.468\"/>\r\n<polygon fill=\"black\" stroke=\"black\" points=\"358.48,-468.279 348.027,-466.552 355.121,-474.421 358.48,-468.279\"/>\r\n</g>\r\n<!-- n15&#45;&gt;n16 -->\r\n<g id=\"edge22\" class=\"edge\"><title>n15&#45;&gt;n16</title>\r\n<path fill=\"none\" stroke=\"black\" d=\"M455.59,-143.697C455.59,-135.983 455.59,-126.712 455.59,-118.112\"/>\r\n<polygon fill=\"black\" stroke=\"black\" points=\"459.09,-118.104 455.59,-108.104 452.09,-118.104 459.09,-118.104\"/>\r\n</g>\r\n<!-- n16&#45;&gt;n7 -->\r\n<g id=\"edge23\" class=\"edge\"><title>n16&#45;&gt;n7</title>\r\n<path fill=\"none\" stroke=\"black\" d=\"M443.761,-72.7646C437.479,-64.143 429.627,-53.3647 422.605,-43.7267\"/>\r\n<polygon fill=\"black\" stroke=\"black\" points=\"425.426,-41.6548 416.708,-35.6334 419.768,-45.7768 425.426,-41.6548\"/>\r\n</g>\r\n<!-- n17 -->\r\n<g id=\"node18\" class=\"node\"><title>n17</title>\r\n<ellipse fill=\"#15b01a\" stroke=\"black\" cx=\"1013.59\" cy=\"-378\" rx=\"118.879\" ry=\"18\"/>\r\n<text text-anchor=\"middle\" x=\"1013.59\" y=\"-374.3\" font-family=\"Times New Roman,serif\" font-size=\"14.00\">usd_libor_curve_perturbation</text>\r\n</g>\r\n<!-- n17&#45;&gt;n18 -->\r\n<g id=\"edge24\" class=\"edge\"><title>n17&#45;&gt;n18</title>\r\n<path fill=\"none\" stroke=\"black\" d=\"M1013.59,-359.697C1013.59,-351.983 1013.59,-342.712 1013.59,-334.112\"/>\r\n<polygon fill=\"black\" stroke=\"black\" points=\"1017.09,-334.104 1013.59,-324.104 1010.09,-334.104 1017.09,-334.104\"/>\r\n</g>\r\n<!-- n18&#45;&gt;n16 -->\r\n<g id=\"edge25\" class=\"edge\"><title>n18&#45;&gt;n16</title>\r\n<path fill=\"none\" stroke=\"black\" d=\"M972.558,-289.264C868.795,-249.47 596.946,-145.212 494.98,-106.107\"/>\r\n<polygon fill=\"black\" stroke=\"black\" points=\"495.961,-102.735 485.371,-102.422 493.455,-109.27 495.961,-102.735\"/>\r\n</g>\r\n</g>\r\n</svg>\r\n",
      "text/plain": [
       "<graphviz.dot.Digraph at 0x253921eb9e8>"
      ]
     },
     "execution_count": 26,
     "metadata": {},
     "output_type": "execute_result"
    }
   ],
   "source": [
    "comp.add_node(\"usd_libor_curve_perturbation\", value=(0, 1, 0.0))\n",
    "comp.add_node(\n",
    "    \"usd_libor_curve_perturbed\",\n",
    "    lambda usd_libor_curve, usd_libor_curve_perturbation: create_perturbed_curve(\n",
    "        usd_libor_curve, *usd_libor_curve_perturbation\n",
    "    ),\n",
    ")\n",
    "\n",
    "\n",
    "def create_curveset(usd_libor_curve_perturbed, usd_ois_curve, usd_fitting_error):\n",
    "    if np.max(np.abs(usd_fitting_error) > 0.00001):\n",
    "        raise Exception(\"Fitting error > 0.1bps\")\n",
    "    return {\"USD-LIBOR-3M\": usd_libor_curve_perturbed, \"USD-OIS\": usd_ois_curve}\n",
    "\n",
    "\n",
    "comp.add_node(\"curveset\", create_curveset)\n",
    "\n",
    "comp.draw(graph_attr={\"size\": \"10,8\"})"
   ]
  },
  {
   "cell_type": "markdown",
   "metadata": {},
   "source": [
    "We can iterate over each year, and see the sensitivity of the portfolio to a change of 1bp in the forward swap rate for that year:"
   ]
  },
  {
   "cell_type": "code",
   "execution_count": 27,
   "metadata": {
    "collapsed": false
   },
   "outputs": [
    {
     "data": {
      "text/plain": [
       "<Container object of 30 artists>"
      ]
     },
     "execution_count": 27,
     "metadata": {},
     "output_type": "execute_result"
    },
    {
     "data": {
      "image/png": "[encoded data removed]",
      "text/plain": [
       "<matplotlib.figure.Figure at 0x25392210940>"
      ]
     },
     "metadata": {},
     "output_type": "display_data"
    }
   ],
   "source": [
    "comp.compute(\"portfolio_val\")\n",
    "comp.insert(\"usd_libor_curve_perturbation\", value=(0, 1, 0.0))\n",
    "base_value = np.array(comp.value(\"portfolio_val\"))\n",
    "pert_values = np.empty((30, base_value.shape[0]))\n",
    "delta_value = np.empty((30, base_value.shape[0]))\n",
    "ts = np.arange(30)\n",
    "for i in ts:\n",
    "    comp.insert(\"usd_libor_curve_perturbation\", value=(i, i + 1, 0.0001))\n",
    "    comp.compute(\"portfolio_val\")\n",
    "    pert_values[i] = comp.value(\"portfolio_val\")\n",
    "    swap_rate_base = swap_rate(i, i + 1, 0.25, comp.value(\"usd_libor_curve\"), comp.value(\"usd_ois_curve\"))\n",
    "    swap_rate_pert = swap_rate(i, i + 1, 0.25, comp.value(\"usd_libor_curve_perturbed\"), comp.value(\"usd_ois_curve\"))\n",
    "    swap_rate_delta = swap_rate_pert - swap_rate_base\n",
    "    delta_value[i] = 0.0001 / swap_rate_delta * (pert_values[i] - base_value)\n",
    "\n",
    "plt.bar(ts, delta_value.sum(axis=1), np.diff(np.concatenate([[0], ts])))"
   ]
  },
  {
   "cell_type": "markdown",
   "metadata": {},
   "source": [
    "## Conclusion\n",
    "\n",
    "This concludes our interest example. We have shown that Loman makes it easy to simultaneously calibrate interest rate curves to market quotes, to value portfolios of interest rate derivatives, and to produce bucketed sensitivities.\n",
    "\n",
    "The portfolio valuation also naturally extends to cover other interest rate derivatives.\n",
    "\n",
    "The calibration approach - an external routine driving Loman to produce calibrated inputs for the computation - easily and naturally extends to calibrating to a global set of interest rate markets, with curveset drawing from many separate independent and interdependent calibrations. It can also extend to other markets, such as FX derivatives, listed options, credit derivatives.\n",
    "\n",
    "Loman's ability to serialize computations allows the calibration to happen once, centrally, and be broadcast to user desktops for firm-wide consistent live valuation.\n",
    "\n",
    "In short, we have only scratched the surface of what is possible with Loman with this example, and we look forward to further exploration in the future."
   ]
  }
 ],
 "metadata": {
  "kernelspec": {
   "display_name": "stepx-rH20EMpA-py3.11",
   "language": "python",
   "name": "python3"
  },
  "language_info": {
   "codemirror_mode": {
    "name": "ipython",
    "version": 3
   },
   "file_extension": ".py",
   "mimetype": "text/x-python",
   "name": "python",
   "nbconvert_exporter": "python",
   "pygments_lexer": "ipython3",
   "version": "3.11.0 (main, Dec 31 2022, 16:50:36) [Clang 14.0.0 (clang-1400.0.29.102)]"
  },
  "vscode": {
   "interpreter": {
    "hash": "615933d37246d2b844a700c4ccbd5f14032dca93b345c44e5002a4564a27a060"
   }
  }
 },
 "nbformat": 4,
 "nbformat_minor": 2
}
